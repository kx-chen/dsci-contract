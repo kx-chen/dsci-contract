{
 "cells": [
  {
   "cell_type": "markdown",
   "metadata": {},
   "source": [
    "# Can we predict final math grades using student's characteristics? "
   ]
  },
  {
   "cell_type": "markdown",
   "metadata": {},
   "source": [
    "## Introduction\n"
   ]
  },
  {
   "cell_type": "markdown",
   "metadata": {},
   "source": [
    "The data set we have decided to use is the Student Performance data set, specifically the data collected for the subject of mathematics. This data set was collected from two secondary schools in Portugal in 2014 using school reports and questionnaires filled out by students. \n",
    "\n",
    "The data reflects the performance of students in Mathematics and Portuguese language which are both modelled under binary/five-level classification and regression tasks. In the original dataset, there were 32 variables given, out of those 32 we only chose to focus on 11 of the variables. \n",
    "\n",
    "The variables we chose to take a closer look at are school, sex, school support, paid tutoring, internet access at home, age, absences, number of past class failures, final grade, weekly study time, and health. \n",
    "\n",
    "To build our model, we will specifically use the variables of age, absences, failures, and final grade (G3) which are all numeric. Grades are on a scale of 1-20. With 20 being the highest grade. Additionally, we will do analysis on all 11 of our selected variables, including the ones that were not selected to be used in the models.\n",
    "\n",
    "Studytime is measured in hours studied per week, students who studied for less than 2 hours per week were assigned a studytime value of 1, between 2-5 hours is 2, 5-10 hours is 3, and over 10 hours is 4. Health is on a scale from 1-5, 1 being very bad and 5 being very good. \n",
    "\n",
    "Using this data set, we hope to answer the question “Can we predict final math grades using student's characteristics?”.\n",
    "\n"
   ]
  },
  {
   "cell_type": "markdown",
   "metadata": {},
   "source": [
    "## Methods"
   ]
  },
  {
   "cell_type": "markdown",
   "metadata": {},
   "source": [
    "We decided to do **both** a regression model and a classification model to have a better understanding of the data as well as to determine the accuracy of our results. If we were to just do a regression model, we wouldn't have a idea of how *well* our model was performing as we would only have the RMSPE as a metric of performance. \n"
   ]
  },
  {
   "cell_type": "markdown",
   "metadata": {},
   "source": [
    "### Method 1: Regression Model"
   ]
  },
  {
   "cell_type": "markdown",
   "metadata": {},
   "source": [
    "#### Reading the data"
   ]
  },
  {
   "cell_type": "markdown",
   "metadata": {},
   "source": [
    "For our analysis, we first started by downloading the dataset from the website. Then we loaded the student math data set into Jupyter. We read the data using read_csv2 and assigned it to `student`."
   ]
  },
  {
   "cell_type": "code",
   "execution_count": 2,
   "metadata": {},
   "outputs": [
    {
     "name": "stderr",
     "output_type": "stream",
     "text": [
      "── \u001b[1mAttaching packages\u001b[22m ─────────────────────────────────────── tidyverse 1.3.0 ──\n",
      "\n",
      "\u001b[32m✔\u001b[39m \u001b[34mggplot2\u001b[39m 3.3.2     \u001b[32m✔\u001b[39m \u001b[34mpurrr  \u001b[39m 0.3.4\n",
      "\u001b[32m✔\u001b[39m \u001b[34mtibble \u001b[39m 3.0.3     \u001b[32m✔\u001b[39m \u001b[34mdplyr  \u001b[39m 1.0.2\n",
      "\u001b[32m✔\u001b[39m \u001b[34mtidyr  \u001b[39m 1.1.2     \u001b[32m✔\u001b[39m \u001b[34mstringr\u001b[39m 1.4.0\n",
      "\u001b[32m✔\u001b[39m \u001b[34mreadr  \u001b[39m 1.3.1     \u001b[32m✔\u001b[39m \u001b[34mforcats\u001b[39m 0.5.0\n",
      "\n",
      "Warning message:\n",
      "“package ‘ggplot2’ was built under R version 4.0.1”\n",
      "Warning message:\n",
      "“package ‘tibble’ was built under R version 4.0.2”\n",
      "Warning message:\n",
      "“package ‘tidyr’ was built under R version 4.0.2”\n",
      "Warning message:\n",
      "“package ‘dplyr’ was built under R version 4.0.2”\n",
      "── \u001b[1mConflicts\u001b[22m ────────────────────────────────────────── tidyverse_conflicts() ──\n",
      "\u001b[31m✖\u001b[39m \u001b[34mdplyr\u001b[39m::\u001b[32mfilter()\u001b[39m masks \u001b[34mstats\u001b[39m::filter()\n",
      "\u001b[31m✖\u001b[39m \u001b[34mdplyr\u001b[39m::\u001b[32mlag()\u001b[39m    masks \u001b[34mstats\u001b[39m::lag()\n",
      "\n",
      "Warning message:\n",
      "“package ‘tidymodels’ was built under R version 4.0.2”\n",
      "── \u001b[1mAttaching packages\u001b[22m ────────────────────────────────────── tidymodels 0.1.1 ──\n",
      "\n",
      "\u001b[32m✔\u001b[39m \u001b[34mbroom    \u001b[39m 0.7.0      \u001b[32m✔\u001b[39m \u001b[34mrecipes  \u001b[39m 0.1.13\n",
      "\u001b[32m✔\u001b[39m \u001b[34mdials    \u001b[39m 0.0.9      \u001b[32m✔\u001b[39m \u001b[34mrsample  \u001b[39m 0.0.7 \n",
      "\u001b[32m✔\u001b[39m \u001b[34minfer    \u001b[39m 0.5.4      \u001b[32m✔\u001b[39m \u001b[34mtune     \u001b[39m 0.1.1 \n",
      "\u001b[32m✔\u001b[39m \u001b[34mmodeldata\u001b[39m 0.0.2      \u001b[32m✔\u001b[39m \u001b[34mworkflows\u001b[39m 0.2.0 \n",
      "\u001b[32m✔\u001b[39m \u001b[34mparsnip  \u001b[39m 0.1.3      \u001b[32m✔\u001b[39m \u001b[34myardstick\u001b[39m 0.0.7 \n",
      "\n",
      "Warning message:\n",
      "“package ‘broom’ was built under R version 4.0.2”\n",
      "Warning message:\n",
      "“package ‘dials’ was built under R version 4.0.2”\n",
      "Warning message:\n",
      "“package ‘infer’ was built under R version 4.0.3”\n",
      "Warning message:\n",
      "“package ‘modeldata’ was built under R version 4.0.1”\n",
      "Warning message:\n",
      "“package ‘parsnip’ was built under R version 4.0.2”\n",
      "Warning message:\n",
      "“package ‘recipes’ was built under R version 4.0.1”\n",
      "Warning message:\n",
      "“package ‘tune’ was built under R version 4.0.2”\n",
      "Warning message:\n",
      "“package ‘workflows’ was built under R version 4.0.2”\n",
      "Warning message:\n",
      "“package ‘yardstick’ was built under R version 4.0.2”\n",
      "── \u001b[1mConflicts\u001b[22m ───────────────────────────────────────── tidymodels_conflicts() ──\n",
      "\u001b[31m✖\u001b[39m \u001b[34mscales\u001b[39m::\u001b[32mdiscard()\u001b[39m masks \u001b[34mpurrr\u001b[39m::discard()\n",
      "\u001b[31m✖\u001b[39m \u001b[34mdplyr\u001b[39m::\u001b[32mfilter()\u001b[39m   masks \u001b[34mstats\u001b[39m::filter()\n",
      "\u001b[31m✖\u001b[39m \u001b[34mrecipes\u001b[39m::\u001b[32mfixed()\u001b[39m  masks \u001b[34mstringr\u001b[39m::fixed()\n",
      "\u001b[31m✖\u001b[39m \u001b[34mdplyr\u001b[39m::\u001b[32mlag()\u001b[39m      masks \u001b[34mstats\u001b[39m::lag()\n",
      "\u001b[31m✖\u001b[39m \u001b[34myardstick\u001b[39m::\u001b[32mspec()\u001b[39m masks \u001b[34mreadr\u001b[39m::spec()\n",
      "\u001b[31m✖\u001b[39m \u001b[34mrecipes\u001b[39m::\u001b[32mstep()\u001b[39m   masks \u001b[34mstats\u001b[39m::step()\n",
      "\n",
      "Using ',' as decimal and '.' as grouping mark. Use read_delim() for more control.\n",
      "\n",
      "Parsed with column specification:\n",
      "cols(\n",
      "  .default = col_character(),\n",
      "  age = \u001b[32mcol_double()\u001b[39m,\n",
      "  Medu = \u001b[32mcol_double()\u001b[39m,\n",
      "  Fedu = \u001b[32mcol_double()\u001b[39m,\n",
      "  traveltime = \u001b[32mcol_double()\u001b[39m,\n",
      "  studytime = \u001b[32mcol_double()\u001b[39m,\n",
      "  failures = \u001b[32mcol_double()\u001b[39m,\n",
      "  famrel = \u001b[32mcol_double()\u001b[39m,\n",
      "  freetime = \u001b[32mcol_double()\u001b[39m,\n",
      "  goout = \u001b[32mcol_double()\u001b[39m,\n",
      "  Dalc = \u001b[32mcol_double()\u001b[39m,\n",
      "  Walc = \u001b[32mcol_double()\u001b[39m,\n",
      "  health = \u001b[32mcol_double()\u001b[39m,\n",
      "  absences = \u001b[32mcol_double()\u001b[39m,\n",
      "  G1 = \u001b[32mcol_double()\u001b[39m,\n",
      "  G2 = \u001b[32mcol_double()\u001b[39m,\n",
      "  G3 = \u001b[32mcol_double()\u001b[39m\n",
      ")\n",
      "\n",
      "See spec(...) for full column specifications.\n",
      "\n"
     ]
    },
    {
     "data": {
      "text/html": [
       "<table>\n",
       "<caption>A spec_tbl_df: 395 × 33</caption>\n",
       "<thead>\n",
       "\t<tr><th scope=col>school</th><th scope=col>sex</th><th scope=col>age</th><th scope=col>address</th><th scope=col>famsize</th><th scope=col>Pstatus</th><th scope=col>Medu</th><th scope=col>Fedu</th><th scope=col>Mjob</th><th scope=col>Fjob</th><th scope=col>⋯</th><th scope=col>famrel</th><th scope=col>freetime</th><th scope=col>goout</th><th scope=col>Dalc</th><th scope=col>Walc</th><th scope=col>health</th><th scope=col>absences</th><th scope=col>G1</th><th scope=col>G2</th><th scope=col>G3</th></tr>\n",
       "\t<tr><th scope=col>&lt;chr&gt;</th><th scope=col>&lt;chr&gt;</th><th scope=col>&lt;dbl&gt;</th><th scope=col>&lt;chr&gt;</th><th scope=col>&lt;chr&gt;</th><th scope=col>&lt;chr&gt;</th><th scope=col>&lt;dbl&gt;</th><th scope=col>&lt;dbl&gt;</th><th scope=col>&lt;chr&gt;</th><th scope=col>&lt;chr&gt;</th><th scope=col>⋯</th><th scope=col>&lt;dbl&gt;</th><th scope=col>&lt;dbl&gt;</th><th scope=col>&lt;dbl&gt;</th><th scope=col>&lt;dbl&gt;</th><th scope=col>&lt;dbl&gt;</th><th scope=col>&lt;dbl&gt;</th><th scope=col>&lt;dbl&gt;</th><th scope=col>&lt;dbl&gt;</th><th scope=col>&lt;dbl&gt;</th><th scope=col>&lt;dbl&gt;</th></tr>\n",
       "</thead>\n",
       "<tbody>\n",
       "\t<tr><td>GP</td><td>F</td><td>18</td><td>U</td><td>GT3</td><td>A</td><td>4</td><td>4</td><td>at_home</td><td>teacher</td><td>⋯</td><td>4</td><td>3</td><td>4</td><td>1</td><td>1</td><td>3</td><td> 6</td><td>5</td><td>6</td><td> 6</td></tr>\n",
       "\t<tr><td>GP</td><td>F</td><td>17</td><td>U</td><td>GT3</td><td>T</td><td>1</td><td>1</td><td>at_home</td><td>other  </td><td>⋯</td><td>5</td><td>3</td><td>3</td><td>1</td><td>1</td><td>3</td><td> 4</td><td>5</td><td>5</td><td> 6</td></tr>\n",
       "\t<tr><td>GP</td><td>F</td><td>15</td><td>U</td><td>LE3</td><td>T</td><td>1</td><td>1</td><td>at_home</td><td>other  </td><td>⋯</td><td>4</td><td>3</td><td>2</td><td>2</td><td>3</td><td>3</td><td>10</td><td>7</td><td>8</td><td>10</td></tr>\n",
       "\t<tr><td>⋮</td><td>⋮</td><td>⋮</td><td>⋮</td><td>⋮</td><td>⋮</td><td>⋮</td><td>⋮</td><td>⋮</td><td>⋮</td><td>⋱</td><td>⋮</td><td>⋮</td><td>⋮</td><td>⋮</td><td>⋮</td><td>⋮</td><td>⋮</td><td>⋮</td><td>⋮</td><td>⋮</td></tr>\n",
       "\t<tr><td>MS</td><td>M</td><td>21</td><td>R</td><td>GT3</td><td>T</td><td>1</td><td>1</td><td>other   </td><td>other  </td><td>⋯</td><td>5</td><td>5</td><td>3</td><td>3</td><td>3</td><td>3</td><td>3</td><td>10</td><td> 8</td><td> 7</td></tr>\n",
       "\t<tr><td>MS</td><td>M</td><td>18</td><td>R</td><td>LE3</td><td>T</td><td>3</td><td>2</td><td>services</td><td>other  </td><td>⋯</td><td>4</td><td>4</td><td>1</td><td>3</td><td>4</td><td>5</td><td>0</td><td>11</td><td>12</td><td>10</td></tr>\n",
       "\t<tr><td>MS</td><td>M</td><td>19</td><td>U</td><td>LE3</td><td>T</td><td>1</td><td>1</td><td>other   </td><td>at_home</td><td>⋯</td><td>3</td><td>2</td><td>3</td><td>3</td><td>3</td><td>5</td><td>5</td><td> 8</td><td> 9</td><td> 9</td></tr>\n",
       "</tbody>\n",
       "</table>\n"
      ],
      "text/latex": [
       "A spec\\_tbl\\_df: 395 × 33\n",
       "\\begin{tabular}{lllllllllllllllllllll}\n",
       " school & sex & age & address & famsize & Pstatus & Medu & Fedu & Mjob & Fjob & ⋯ & famrel & freetime & goout & Dalc & Walc & health & absences & G1 & G2 & G3\\\\\n",
       " <chr> & <chr> & <dbl> & <chr> & <chr> & <chr> & <dbl> & <dbl> & <chr> & <chr> & ⋯ & <dbl> & <dbl> & <dbl> & <dbl> & <dbl> & <dbl> & <dbl> & <dbl> & <dbl> & <dbl>\\\\\n",
       "\\hline\n",
       "\t GP & F & 18 & U & GT3 & A & 4 & 4 & at\\_home & teacher & ⋯ & 4 & 3 & 4 & 1 & 1 & 3 &  6 & 5 & 6 &  6\\\\\n",
       "\t GP & F & 17 & U & GT3 & T & 1 & 1 & at\\_home & other   & ⋯ & 5 & 3 & 3 & 1 & 1 & 3 &  4 & 5 & 5 &  6\\\\\n",
       "\t GP & F & 15 & U & LE3 & T & 1 & 1 & at\\_home & other   & ⋯ & 4 & 3 & 2 & 2 & 3 & 3 & 10 & 7 & 8 & 10\\\\\n",
       "\t ⋮ & ⋮ & ⋮ & ⋮ & ⋮ & ⋮ & ⋮ & ⋮ & ⋮ & ⋮ & ⋱ & ⋮ & ⋮ & ⋮ & ⋮ & ⋮ & ⋮ & ⋮ & ⋮ & ⋮ & ⋮\\\\\n",
       "\t MS & M & 21 & R & GT3 & T & 1 & 1 & other    & other   & ⋯ & 5 & 5 & 3 & 3 & 3 & 3 & 3 & 10 &  8 &  7\\\\\n",
       "\t MS & M & 18 & R & LE3 & T & 3 & 2 & services & other   & ⋯ & 4 & 4 & 1 & 3 & 4 & 5 & 0 & 11 & 12 & 10\\\\\n",
       "\t MS & M & 19 & U & LE3 & T & 1 & 1 & other    & at\\_home & ⋯ & 3 & 2 & 3 & 3 & 3 & 5 & 5 &  8 &  9 &  9\\\\\n",
       "\\end{tabular}\n"
      ],
      "text/markdown": [
       "\n",
       "A spec_tbl_df: 395 × 33\n",
       "\n",
       "| school &lt;chr&gt; | sex &lt;chr&gt; | age &lt;dbl&gt; | address &lt;chr&gt; | famsize &lt;chr&gt; | Pstatus &lt;chr&gt; | Medu &lt;dbl&gt; | Fedu &lt;dbl&gt; | Mjob &lt;chr&gt; | Fjob &lt;chr&gt; | ⋯ ⋯ | famrel &lt;dbl&gt; | freetime &lt;dbl&gt; | goout &lt;dbl&gt; | Dalc &lt;dbl&gt; | Walc &lt;dbl&gt; | health &lt;dbl&gt; | absences &lt;dbl&gt; | G1 &lt;dbl&gt; | G2 &lt;dbl&gt; | G3 &lt;dbl&gt; |\n",
       "|---|---|---|---|---|---|---|---|---|---|---|---|---|---|---|---|---|---|---|---|---|\n",
       "| GP | F | 18 | U | GT3 | A | 4 | 4 | at_home | teacher | ⋯ | 4 | 3 | 4 | 1 | 1 | 3 |  6 | 5 | 6 |  6 |\n",
       "| GP | F | 17 | U | GT3 | T | 1 | 1 | at_home | other   | ⋯ | 5 | 3 | 3 | 1 | 1 | 3 |  4 | 5 | 5 |  6 |\n",
       "| GP | F | 15 | U | LE3 | T | 1 | 1 | at_home | other   | ⋯ | 4 | 3 | 2 | 2 | 3 | 3 | 10 | 7 | 8 | 10 |\n",
       "| ⋮ | ⋮ | ⋮ | ⋮ | ⋮ | ⋮ | ⋮ | ⋮ | ⋮ | ⋮ | ⋱ | ⋮ | ⋮ | ⋮ | ⋮ | ⋮ | ⋮ | ⋮ | ⋮ | ⋮ | ⋮ |\n",
       "| MS | M | 21 | R | GT3 | T | 1 | 1 | other    | other   | ⋯ | 5 | 5 | 3 | 3 | 3 | 3 | 3 | 10 |  8 |  7 |\n",
       "| MS | M | 18 | R | LE3 | T | 3 | 2 | services | other   | ⋯ | 4 | 4 | 1 | 3 | 4 | 5 | 0 | 11 | 12 | 10 |\n",
       "| MS | M | 19 | U | LE3 | T | 1 | 1 | other    | at_home | ⋯ | 3 | 2 | 3 | 3 | 3 | 5 | 5 |  8 |  9 |  9 |\n",
       "\n"
      ],
      "text/plain": [
       "    school sex age address famsize Pstatus Medu Fedu Mjob     Fjob    ⋯ famrel\n",
       "1   GP     F   18  U       GT3     A       4    4    at_home  teacher ⋯ 4     \n",
       "2   GP     F   17  U       GT3     T       1    1    at_home  other   ⋯ 5     \n",
       "3   GP     F   15  U       LE3     T       1    1    at_home  other   ⋯ 4     \n",
       "⋮   ⋮      ⋮   ⋮   ⋮       ⋮       ⋮       ⋮    ⋮    ⋮        ⋮       ⋱ ⋮     \n",
       "393 MS     M   21  R       GT3     T       1    1    other    other   ⋯ 5     \n",
       "394 MS     M   18  R       LE3     T       3    2    services other   ⋯ 4     \n",
       "395 MS     M   19  U       LE3     T       1    1    other    at_home ⋯ 3     \n",
       "    freetime goout Dalc Walc health absences G1 G2 G3\n",
       "1   3        4     1    1    3       6       5  6   6\n",
       "2   3        3     1    1    3       4       5  5   6\n",
       "3   3        2     2    3    3      10       7  8  10\n",
       "⋮   ⋮        ⋮     ⋮    ⋮    ⋮      ⋮        ⋮  ⋮  ⋮ \n",
       "393 5        3     3    3    3      3        10  8  7\n",
       "394 4        1     3    4    5      0        11 12 10\n",
       "395 2        3     3    3    5      5         8  9  9"
      ]
     },
     "metadata": {},
     "output_type": "display_data"
    }
   ],
   "source": [
    "library(tidyverse)\n",
    "library(tidymodels)\n",
    "set.seed(6969)\n",
    "options(repr.matrix.max.rows = 6)\n",
    "student <- read_csv2(\"https://raw.githubusercontent.com/kx-chen/dsci-contract/master/student-mat.csv\")\n",
    "student"
   ]
  },
  {
   "cell_type": "markdown",
   "metadata": {},
   "source": [
    "#### Cleaning the Data"
   ]
  },
  {
   "cell_type": "markdown",
   "metadata": {},
   "source": [
    "We proceeded to clean the data by selecting only the variables we wanted, which are school, sex, age, paid (paid tutoring), schoolsup (extra educational support), internet (internet access at home), studytime (how long they studied for per week), failures (number of past class failures), health (current health status, ranked from 1-5), absences, and G3."
   ]
  },
  {
   "cell_type": "code",
   "execution_count": 3,
   "metadata": {},
   "outputs": [
    {
     "data": {
      "text/html": [
       "<table>\n",
       "<caption>A tibble: 395 × 11</caption>\n",
       "<thead>\n",
       "\t<tr><th scope=col>school</th><th scope=col>sex</th><th scope=col>age</th><th scope=col>paid</th><th scope=col>schoolsup</th><th scope=col>internet</th><th scope=col>studytime</th><th scope=col>failures</th><th scope=col>health</th><th scope=col>absences</th><th scope=col>G3</th></tr>\n",
       "\t<tr><th scope=col>&lt;chr&gt;</th><th scope=col>&lt;chr&gt;</th><th scope=col>&lt;dbl&gt;</th><th scope=col>&lt;chr&gt;</th><th scope=col>&lt;chr&gt;</th><th scope=col>&lt;chr&gt;</th><th scope=col>&lt;dbl&gt;</th><th scope=col>&lt;dbl&gt;</th><th scope=col>&lt;dbl&gt;</th><th scope=col>&lt;dbl&gt;</th><th scope=col>&lt;dbl&gt;</th></tr>\n",
       "</thead>\n",
       "<tbody>\n",
       "\t<tr><td>GP</td><td>F</td><td>18</td><td>no </td><td>yes</td><td>no </td><td>2</td><td>0</td><td>3</td><td> 6</td><td> 6</td></tr>\n",
       "\t<tr><td>GP</td><td>F</td><td>17</td><td>no </td><td>no </td><td>yes</td><td>2</td><td>0</td><td>3</td><td> 4</td><td> 6</td></tr>\n",
       "\t<tr><td>GP</td><td>F</td><td>15</td><td>yes</td><td>yes</td><td>yes</td><td>2</td><td>3</td><td>3</td><td>10</td><td>10</td></tr>\n",
       "\t<tr><td>⋮</td><td>⋮</td><td>⋮</td><td>⋮</td><td>⋮</td><td>⋮</td><td>⋮</td><td>⋮</td><td>⋮</td><td>⋮</td><td>⋮</td></tr>\n",
       "\t<tr><td>MS</td><td>M</td><td>21</td><td>no</td><td>no</td><td>no </td><td>1</td><td>3</td><td>3</td><td>3</td><td> 7</td></tr>\n",
       "\t<tr><td>MS</td><td>M</td><td>18</td><td>no</td><td>no</td><td>yes</td><td>1</td><td>0</td><td>5</td><td>0</td><td>10</td></tr>\n",
       "\t<tr><td>MS</td><td>M</td><td>19</td><td>no</td><td>no</td><td>yes</td><td>1</td><td>0</td><td>5</td><td>5</td><td> 9</td></tr>\n",
       "</tbody>\n",
       "</table>\n"
      ],
      "text/latex": [
       "A tibble: 395 × 11\n",
       "\\begin{tabular}{lllllllllll}\n",
       " school & sex & age & paid & schoolsup & internet & studytime & failures & health & absences & G3\\\\\n",
       " <chr> & <chr> & <dbl> & <chr> & <chr> & <chr> & <dbl> & <dbl> & <dbl> & <dbl> & <dbl>\\\\\n",
       "\\hline\n",
       "\t GP & F & 18 & no  & yes & no  & 2 & 0 & 3 &  6 &  6\\\\\n",
       "\t GP & F & 17 & no  & no  & yes & 2 & 0 & 3 &  4 &  6\\\\\n",
       "\t GP & F & 15 & yes & yes & yes & 2 & 3 & 3 & 10 & 10\\\\\n",
       "\t ⋮ & ⋮ & ⋮ & ⋮ & ⋮ & ⋮ & ⋮ & ⋮ & ⋮ & ⋮ & ⋮\\\\\n",
       "\t MS & M & 21 & no & no & no  & 1 & 3 & 3 & 3 &  7\\\\\n",
       "\t MS & M & 18 & no & no & yes & 1 & 0 & 5 & 0 & 10\\\\\n",
       "\t MS & M & 19 & no & no & yes & 1 & 0 & 5 & 5 &  9\\\\\n",
       "\\end{tabular}\n"
      ],
      "text/markdown": [
       "\n",
       "A tibble: 395 × 11\n",
       "\n",
       "| school &lt;chr&gt; | sex &lt;chr&gt; | age &lt;dbl&gt; | paid &lt;chr&gt; | schoolsup &lt;chr&gt; | internet &lt;chr&gt; | studytime &lt;dbl&gt; | failures &lt;dbl&gt; | health &lt;dbl&gt; | absences &lt;dbl&gt; | G3 &lt;dbl&gt; |\n",
       "|---|---|---|---|---|---|---|---|---|---|---|\n",
       "| GP | F | 18 | no  | yes | no  | 2 | 0 | 3 |  6 |  6 |\n",
       "| GP | F | 17 | no  | no  | yes | 2 | 0 | 3 |  4 |  6 |\n",
       "| GP | F | 15 | yes | yes | yes | 2 | 3 | 3 | 10 | 10 |\n",
       "| ⋮ | ⋮ | ⋮ | ⋮ | ⋮ | ⋮ | ⋮ | ⋮ | ⋮ | ⋮ | ⋮ |\n",
       "| MS | M | 21 | no | no | no  | 1 | 3 | 3 | 3 |  7 |\n",
       "| MS | M | 18 | no | no | yes | 1 | 0 | 5 | 0 | 10 |\n",
       "| MS | M | 19 | no | no | yes | 1 | 0 | 5 | 5 |  9 |\n",
       "\n"
      ],
      "text/plain": [
       "    school sex age paid schoolsup internet studytime failures health absences\n",
       "1   GP     F   18  no   yes       no       2         0        3       6      \n",
       "2   GP     F   17  no   no        yes      2         0        3       4      \n",
       "3   GP     F   15  yes  yes       yes      2         3        3      10      \n",
       "⋮   ⋮      ⋮   ⋮   ⋮    ⋮         ⋮        ⋮         ⋮        ⋮      ⋮       \n",
       "393 MS     M   21  no   no        no       1         3        3      3       \n",
       "394 MS     M   18  no   no        yes      1         0        5      0       \n",
       "395 MS     M   19  no   no        yes      1         0        5      5       \n",
       "    G3\n",
       "1    6\n",
       "2    6\n",
       "3   10\n",
       "⋮   ⋮ \n",
       "393  7\n",
       "394 10\n",
       "395  9"
      ]
     },
     "metadata": {},
     "output_type": "display_data"
    }
   ],
   "source": [
    "student_clean <- student %>% select(school, sex, age, paid, schoolsup, internet, studytime, failures, health, absences, G3)\n",
    "student_clean"
   ]
  },
  {
   "cell_type": "markdown",
   "metadata": {},
   "source": [
    "#### Setting up"
   ]
  },
  {
   "cell_type": "markdown",
   "metadata": {},
   "source": [
    "For the both models, we split the clean data into a training and testing set using an 80/20 split with the target variable being G3 as that is the final score we are aiming to predict."
   ]
  },
  {
   "cell_type": "code",
   "execution_count": 4,
   "metadata": {},
   "outputs": [
    {
     "data": {
      "text/plain": [
       "<Analysis/Assess/Total>\n",
       "<298/97/395>"
      ]
     },
     "metadata": {},
     "output_type": "display_data"
    },
    {
     "data": {
      "text/html": [
       "<table>\n",
       "<caption>A tibble: 298 × 11</caption>\n",
       "<thead>\n",
       "\t<tr><th scope=col>school</th><th scope=col>sex</th><th scope=col>age</th><th scope=col>paid</th><th scope=col>schoolsup</th><th scope=col>internet</th><th scope=col>studytime</th><th scope=col>failures</th><th scope=col>health</th><th scope=col>absences</th><th scope=col>G3</th></tr>\n",
       "\t<tr><th scope=col>&lt;chr&gt;</th><th scope=col>&lt;chr&gt;</th><th scope=col>&lt;dbl&gt;</th><th scope=col>&lt;chr&gt;</th><th scope=col>&lt;chr&gt;</th><th scope=col>&lt;chr&gt;</th><th scope=col>&lt;dbl&gt;</th><th scope=col>&lt;dbl&gt;</th><th scope=col>&lt;dbl&gt;</th><th scope=col>&lt;dbl&gt;</th><th scope=col>&lt;dbl&gt;</th></tr>\n",
       "</thead>\n",
       "<tbody>\n",
       "\t<tr><td>GP</td><td>F</td><td>17</td><td>no </td><td>no </td><td>yes</td><td>2</td><td>0</td><td>3</td><td> 4</td><td> 6</td></tr>\n",
       "\t<tr><td>GP</td><td>F</td><td>15</td><td>yes</td><td>yes</td><td>yes</td><td>2</td><td>3</td><td>3</td><td>10</td><td>10</td></tr>\n",
       "\t<tr><td>GP</td><td>F</td><td>15</td><td>yes</td><td>no </td><td>yes</td><td>3</td><td>0</td><td>5</td><td> 2</td><td>15</td></tr>\n",
       "\t<tr><td>⋮</td><td>⋮</td><td>⋮</td><td>⋮</td><td>⋮</td><td>⋮</td><td>⋮</td><td>⋮</td><td>⋮</td><td>⋮</td><td>⋮</td></tr>\n",
       "\t<tr><td>MS</td><td>M</td><td>21</td><td>no</td><td>no</td><td>no </td><td>1</td><td>3</td><td>3</td><td>3</td><td> 7</td></tr>\n",
       "\t<tr><td>MS</td><td>M</td><td>18</td><td>no</td><td>no</td><td>yes</td><td>1</td><td>0</td><td>5</td><td>0</td><td>10</td></tr>\n",
       "\t<tr><td>MS</td><td>M</td><td>19</td><td>no</td><td>no</td><td>yes</td><td>1</td><td>0</td><td>5</td><td>5</td><td> 9</td></tr>\n",
       "</tbody>\n",
       "</table>\n"
      ],
      "text/latex": [
       "A tibble: 298 × 11\n",
       "\\begin{tabular}{lllllllllll}\n",
       " school & sex & age & paid & schoolsup & internet & studytime & failures & health & absences & G3\\\\\n",
       " <chr> & <chr> & <dbl> & <chr> & <chr> & <chr> & <dbl> & <dbl> & <dbl> & <dbl> & <dbl>\\\\\n",
       "\\hline\n",
       "\t GP & F & 17 & no  & no  & yes & 2 & 0 & 3 &  4 &  6\\\\\n",
       "\t GP & F & 15 & yes & yes & yes & 2 & 3 & 3 & 10 & 10\\\\\n",
       "\t GP & F & 15 & yes & no  & yes & 3 & 0 & 5 &  2 & 15\\\\\n",
       "\t ⋮ & ⋮ & ⋮ & ⋮ & ⋮ & ⋮ & ⋮ & ⋮ & ⋮ & ⋮ & ⋮\\\\\n",
       "\t MS & M & 21 & no & no & no  & 1 & 3 & 3 & 3 &  7\\\\\n",
       "\t MS & M & 18 & no & no & yes & 1 & 0 & 5 & 0 & 10\\\\\n",
       "\t MS & M & 19 & no & no & yes & 1 & 0 & 5 & 5 &  9\\\\\n",
       "\\end{tabular}\n"
      ],
      "text/markdown": [
       "\n",
       "A tibble: 298 × 11\n",
       "\n",
       "| school &lt;chr&gt; | sex &lt;chr&gt; | age &lt;dbl&gt; | paid &lt;chr&gt; | schoolsup &lt;chr&gt; | internet &lt;chr&gt; | studytime &lt;dbl&gt; | failures &lt;dbl&gt; | health &lt;dbl&gt; | absences &lt;dbl&gt; | G3 &lt;dbl&gt; |\n",
       "|---|---|---|---|---|---|---|---|---|---|---|\n",
       "| GP | F | 17 | no  | no  | yes | 2 | 0 | 3 |  4 |  6 |\n",
       "| GP | F | 15 | yes | yes | yes | 2 | 3 | 3 | 10 | 10 |\n",
       "| GP | F | 15 | yes | no  | yes | 3 | 0 | 5 |  2 | 15 |\n",
       "| ⋮ | ⋮ | ⋮ | ⋮ | ⋮ | ⋮ | ⋮ | ⋮ | ⋮ | ⋮ | ⋮ |\n",
       "| MS | M | 21 | no | no | no  | 1 | 3 | 3 | 3 |  7 |\n",
       "| MS | M | 18 | no | no | yes | 1 | 0 | 5 | 0 | 10 |\n",
       "| MS | M | 19 | no | no | yes | 1 | 0 | 5 | 5 |  9 |\n",
       "\n"
      ],
      "text/plain": [
       "    school sex age paid schoolsup internet studytime failures health absences\n",
       "1   GP     F   17  no   no        yes      2         0        3       4      \n",
       "2   GP     F   15  yes  yes       yes      2         3        3      10      \n",
       "3   GP     F   15  yes  no        yes      3         0        5       2      \n",
       "⋮   ⋮      ⋮   ⋮   ⋮    ⋮         ⋮        ⋮         ⋮        ⋮      ⋮       \n",
       "296 MS     M   21  no   no        no       1         3        3      3       \n",
       "297 MS     M   18  no   no        yes      1         0        5      0       \n",
       "298 MS     M   19  no   no        yes      1         0        5      5       \n",
       "    G3\n",
       "1    6\n",
       "2   10\n",
       "3   15\n",
       "⋮   ⋮ \n",
       "296  7\n",
       "297 10\n",
       "298  9"
      ]
     },
     "metadata": {},
     "output_type": "display_data"
    },
    {
     "data": {
      "text/html": [
       "<table>\n",
       "<caption>A tibble: 97 × 11</caption>\n",
       "<thead>\n",
       "\t<tr><th scope=col>school</th><th scope=col>sex</th><th scope=col>age</th><th scope=col>paid</th><th scope=col>schoolsup</th><th scope=col>internet</th><th scope=col>studytime</th><th scope=col>failures</th><th scope=col>health</th><th scope=col>absences</th><th scope=col>G3</th></tr>\n",
       "\t<tr><th scope=col>&lt;chr&gt;</th><th scope=col>&lt;chr&gt;</th><th scope=col>&lt;dbl&gt;</th><th scope=col>&lt;chr&gt;</th><th scope=col>&lt;chr&gt;</th><th scope=col>&lt;chr&gt;</th><th scope=col>&lt;dbl&gt;</th><th scope=col>&lt;dbl&gt;</th><th scope=col>&lt;dbl&gt;</th><th scope=col>&lt;dbl&gt;</th><th scope=col>&lt;dbl&gt;</th></tr>\n",
       "</thead>\n",
       "<tbody>\n",
       "\t<tr><td>GP</td><td>F</td><td>18</td><td>no </td><td>yes</td><td>no </td><td>2</td><td>0</td><td>3</td><td>6</td><td> 6</td></tr>\n",
       "\t<tr><td>GP</td><td>F</td><td>16</td><td>yes</td><td>no </td><td>no </td><td>2</td><td>0</td><td>5</td><td>4</td><td>10</td></tr>\n",
       "\t<tr><td>GP</td><td>M</td><td>16</td><td>no </td><td>no </td><td>yes</td><td>2</td><td>0</td><td>3</td><td>0</td><td>11</td></tr>\n",
       "\t<tr><td>⋮</td><td>⋮</td><td>⋮</td><td>⋮</td><td>⋮</td><td>⋮</td><td>⋮</td><td>⋮</td><td>⋮</td><td>⋮</td><td>⋮</td></tr>\n",
       "\t<tr><td>MS</td><td>F</td><td>18</td><td>no</td><td>no</td><td>no </td><td>2</td><td>0</td><td>5</td><td>0</td><td>13</td></tr>\n",
       "\t<tr><td>MS</td><td>F</td><td>18</td><td>no</td><td>no</td><td>yes</td><td>2</td><td>0</td><td>3</td><td>0</td><td>10</td></tr>\n",
       "\t<tr><td>MS</td><td>F</td><td>17</td><td>no</td><td>no</td><td>no </td><td>2</td><td>0</td><td>3</td><td>0</td><td>12</td></tr>\n",
       "</tbody>\n",
       "</table>\n"
      ],
      "text/latex": [
       "A tibble: 97 × 11\n",
       "\\begin{tabular}{lllllllllll}\n",
       " school & sex & age & paid & schoolsup & internet & studytime & failures & health & absences & G3\\\\\n",
       " <chr> & <chr> & <dbl> & <chr> & <chr> & <chr> & <dbl> & <dbl> & <dbl> & <dbl> & <dbl>\\\\\n",
       "\\hline\n",
       "\t GP & F & 18 & no  & yes & no  & 2 & 0 & 3 & 6 &  6\\\\\n",
       "\t GP & F & 16 & yes & no  & no  & 2 & 0 & 5 & 4 & 10\\\\\n",
       "\t GP & M & 16 & no  & no  & yes & 2 & 0 & 3 & 0 & 11\\\\\n",
       "\t ⋮ & ⋮ & ⋮ & ⋮ & ⋮ & ⋮ & ⋮ & ⋮ & ⋮ & ⋮ & ⋮\\\\\n",
       "\t MS & F & 18 & no & no & no  & 2 & 0 & 5 & 0 & 13\\\\\n",
       "\t MS & F & 18 & no & no & yes & 2 & 0 & 3 & 0 & 10\\\\\n",
       "\t MS & F & 17 & no & no & no  & 2 & 0 & 3 & 0 & 12\\\\\n",
       "\\end{tabular}\n"
      ],
      "text/markdown": [
       "\n",
       "A tibble: 97 × 11\n",
       "\n",
       "| school &lt;chr&gt; | sex &lt;chr&gt; | age &lt;dbl&gt; | paid &lt;chr&gt; | schoolsup &lt;chr&gt; | internet &lt;chr&gt; | studytime &lt;dbl&gt; | failures &lt;dbl&gt; | health &lt;dbl&gt; | absences &lt;dbl&gt; | G3 &lt;dbl&gt; |\n",
       "|---|---|---|---|---|---|---|---|---|---|---|\n",
       "| GP | F | 18 | no  | yes | no  | 2 | 0 | 3 | 6 |  6 |\n",
       "| GP | F | 16 | yes | no  | no  | 2 | 0 | 5 | 4 | 10 |\n",
       "| GP | M | 16 | no  | no  | yes | 2 | 0 | 3 | 0 | 11 |\n",
       "| ⋮ | ⋮ | ⋮ | ⋮ | ⋮ | ⋮ | ⋮ | ⋮ | ⋮ | ⋮ | ⋮ |\n",
       "| MS | F | 18 | no | no | no  | 2 | 0 | 5 | 0 | 13 |\n",
       "| MS | F | 18 | no | no | yes | 2 | 0 | 3 | 0 | 10 |\n",
       "| MS | F | 17 | no | no | no  | 2 | 0 | 3 | 0 | 12 |\n",
       "\n"
      ],
      "text/plain": [
       "   school sex age paid schoolsup internet studytime failures health absences G3\n",
       "1  GP     F   18  no   yes       no       2         0        3      6         6\n",
       "2  GP     F   16  yes  no        no       2         0        5      4        10\n",
       "3  GP     M   16  no   no        yes      2         0        3      0        11\n",
       "⋮  ⋮      ⋮   ⋮   ⋮    ⋮         ⋮        ⋮         ⋮        ⋮      ⋮        ⋮ \n",
       "95 MS     F   18  no   no        no       2         0        5      0        13\n",
       "96 MS     F   18  no   no        yes      2         0        3      0        10\n",
       "97 MS     F   17  no   no        no       2         0        3      0        12"
      ]
     },
     "metadata": {},
     "output_type": "display_data"
    }
   ],
   "source": [
    "student_split <- initial_split(student_clean, props = 0.80, strata = G3)\n",
    "student_train <- training(student_split)\n",
    "student_test <- testing(student_split)\n",
    "\n",
    "student_split\n",
    "student_train\n",
    "student_test"
   ]
  },
  {
   "cell_type": "markdown",
   "metadata": {},
   "source": [
    "#### Setting up recipe and model"
   ]
  },
  {
   "cell_type": "markdown",
   "metadata": {},
   "source": [
    "We then created a recipe using the training data and the variables with numerical values, which are age, absences, failures, health, and study time. We also pre proccessed the data by scaling and centering all predictors.\n",
    "\n",
    "Then, we used a K-nearest neighbors regression model to predict a numerical grade for the student using the age, absences, and failures variables. \n"
   ]
  },
  {
   "cell_type": "code",
   "execution_count": 5,
   "metadata": {},
   "outputs": [
    {
     "data": {
      "text/plain": [
       "Data Recipe\n",
       "\n",
       "Inputs:\n",
       "\n",
       "      role #variables\n",
       "   outcome          1\n",
       " predictor          3\n",
       "\n",
       "Operations:\n",
       "\n",
       "Scaling for all_predictors()\n",
       "Centering for all_predictors()"
      ]
     },
     "metadata": {},
     "output_type": "display_data"
    },
    {
     "data": {
      "text/plain": [
       "K-Nearest Neighbor Model Specification (regression)\n",
       "\n",
       "Main Arguments:\n",
       "  neighbors = tune()\n",
       "  weight_func = rectangular\n",
       "\n",
       "Computational engine: kknn \n"
      ]
     },
     "metadata": {},
     "output_type": "display_data"
    }
   ],
   "source": [
    "student_recipe <- recipe(G3 ~ age + absences + failures, data = student_train) %>% step_scale(all_predictors()) %>% step_center(all_predictors())\n",
    "\n",
    "student_spec <- nearest_neighbor(weight_func = \"rectangular\", neighbors = tune()) %>% set_engine(\"kknn\") %>% set_mode(\"regression\")\n",
    "\n",
    "student_recipe\n",
    "student_spec"
   ]
  },
  {
   "cell_type": "markdown",
   "metadata": {},
   "source": [
    "#### Tuning/Finding ideal K"
   ]
  },
  {
   "cell_type": "markdown",
   "metadata": {},
   "source": [
    "Without data size, we believed there would be enough data that a 5-fold cross-validation will be sufficient to help us determine the minimum RMSPE and therefore the best K value (21)."
   ]
  },
  {
   "cell_type": "code",
   "execution_count": 6,
   "metadata": {},
   "outputs": [
    {
     "data": {
      "text/html": [
       "13"
      ],
      "text/latex": [
       "13"
      ],
      "text/markdown": [
       "13"
      ],
      "text/plain": [
       "[1] 13"
      ]
     },
     "metadata": {},
     "output_type": "display_data"
    }
   ],
   "source": [
    "gridvals <- tibble(neighbors = seq(1, 200))\n",
    "student_vfold <- vfold_cv(student_train, v = 5, strata = G3)\n",
    "\n",
    "student_k <- workflow() %>% add_recipe(student_recipe) %>% add_model(student_spec) %>%\n",
    "             tune_grid(student_vfold, grid = gridvals) %>% collect_metrics() %>% filter(.metric == \"rmse\") %>% filter(mean == min(mean)) %>% pull(neighbors)\n",
    "\n",
    "student_k"
   ]
  },
  {
   "cell_type": "markdown",
   "metadata": {},
   "source": [
    "#### Evaluating on the test set"
   ]
  },
  {
   "cell_type": "markdown",
   "metadata": {},
   "source": [
    "Then, using the ideal K value, 21, we made predictions on our test dataset and got our RMSPE for the predictions."
   ]
  },
  {
   "cell_type": "code",
   "execution_count": 7,
   "metadata": {},
   "outputs": [
    {
     "data": {
      "text/html": [
       "<table>\n",
       "<caption>A tibble: 3 × 3</caption>\n",
       "<thead>\n",
       "\t<tr><th scope=col>.metric</th><th scope=col>.estimator</th><th scope=col>.estimate</th></tr>\n",
       "\t<tr><th scope=col>&lt;chr&gt;</th><th scope=col>&lt;chr&gt;</th><th scope=col>&lt;dbl&gt;</th></tr>\n",
       "</thead>\n",
       "<tbody>\n",
       "\t<tr><td>rmse</td><td>standard</td><td>3.6371441</td></tr>\n",
       "\t<tr><td>rsq </td><td>standard</td><td>0.3147689</td></tr>\n",
       "\t<tr><td>mae </td><td>standard</td><td>2.8469469</td></tr>\n",
       "</tbody>\n",
       "</table>\n"
      ],
      "text/latex": [
       "A tibble: 3 × 3\n",
       "\\begin{tabular}{lll}\n",
       " .metric & .estimator & .estimate\\\\\n",
       " <chr> & <chr> & <dbl>\\\\\n",
       "\\hline\n",
       "\t rmse & standard & 3.6371441\\\\\n",
       "\t rsq  & standard & 0.3147689\\\\\n",
       "\t mae  & standard & 2.8469469\\\\\n",
       "\\end{tabular}\n"
      ],
      "text/markdown": [
       "\n",
       "A tibble: 3 × 3\n",
       "\n",
       "| .metric &lt;chr&gt; | .estimator &lt;chr&gt; | .estimate &lt;dbl&gt; |\n",
       "|---|---|---|\n",
       "| rmse | standard | 3.6371441 |\n",
       "| rsq  | standard | 0.3147689 |\n",
       "| mae  | standard | 2.8469469 |\n",
       "\n"
      ],
      "text/plain": [
       "  .metric .estimator .estimate\n",
       "1 rmse    standard   3.6371441\n",
       "2 rsq     standard   0.3147689\n",
       "3 mae     standard   2.8469469"
      ]
     },
     "metadata": {},
     "output_type": "display_data"
    }
   ],
   "source": [
    "student_spec <- nearest_neighbor(weight_func = \"rectangular\", neighbors = student_k) %>%\n",
    "  set_engine(\"kknn\") %>%\n",
    "  set_mode(\"regression\")\n",
    "\n",
    "student_fit <- workflow() %>%\n",
    "  add_recipe(student_recipe) %>%\n",
    "  add_model(student_spec) %>%\n",
    "  fit(data = student_train)\n",
    "\n",
    "predictions <- student_fit %>%\n",
    "  predict(student_test) %>%\n",
    "  bind_cols(student_test)\n",
    "\n",
    "student_metrics <- metrics(predictions, truth = G3, estimate = .pred)\n",
    "student_metrics"
   ]
  },
  {
   "cell_type": "markdown",
   "metadata": {},
   "source": [
    "As can be seen from above, our model has a RMSPE of approximately 3.63. This proves that it is possible to predict student's math grades using their characteristics, but it doesn't tell us much about the accuracy of quality of our predictions.\n",
    "\n",
    "To solve this problem, we decided to take a second attempt at making a model, but this time we used a K-nearest neighbor classification model instead, classifying the student's grades into \"Low\", \"Medium\", and \"High\". "
   ]
  },
  {
   "cell_type": "markdown",
   "metadata": {},
   "source": [
    "### Method 2: Classification Model"
   ]
  },
  {
   "cell_type": "markdown",
   "metadata": {},
   "source": [
    "Because our regression model can only be measured by RMSPE, we decided to also create a K-NN classification model for our grades as well. This way, we could get a specific accuracy for how well our model performed. With a better metric (accuracy) we can then come to a better conclusion for our predictive question: \"Can we predict math grades using student's characteristics?\"."
   ]
  },
  {
   "cell_type": "markdown",
   "metadata": {},
   "source": [
    "#### Preparing data for classification"
   ]
  },
  {
   "cell_type": "markdown",
   "metadata": {},
   "source": [
    "For the classification model, we decided to turn G3 data into categorical data by dividing the grades into 3 categories, low, medium and high. Low represents a mark from 0-5, medium represents a mark from 5-10, and high represents a mark from 10-20.\n",
    "\n",
    "We then split the data into training and testing sets using an 80/20 split with the target variable being the G3 category, which is the G3 data that has been categorized. "
   ]
  },
  {
   "cell_type": "code",
   "execution_count": 8,
   "metadata": {},
   "outputs": [
    {
     "data": {
      "text/html": [
       "<table>\n",
       "<caption>A tibble: 395 × 12</caption>\n",
       "<thead>\n",
       "\t<tr><th scope=col>school</th><th scope=col>sex</th><th scope=col>age</th><th scope=col>paid</th><th scope=col>schoolsup</th><th scope=col>internet</th><th scope=col>studytime</th><th scope=col>failures</th><th scope=col>health</th><th scope=col>absences</th><th scope=col>G3</th><th scope=col>G3category</th></tr>\n",
       "\t<tr><th scope=col>&lt;chr&gt;</th><th scope=col>&lt;chr&gt;</th><th scope=col>&lt;dbl&gt;</th><th scope=col>&lt;chr&gt;</th><th scope=col>&lt;chr&gt;</th><th scope=col>&lt;chr&gt;</th><th scope=col>&lt;dbl&gt;</th><th scope=col>&lt;dbl&gt;</th><th scope=col>&lt;dbl&gt;</th><th scope=col>&lt;dbl&gt;</th><th scope=col>&lt;dbl&gt;</th><th scope=col>&lt;fct&gt;</th></tr>\n",
       "</thead>\n",
       "<tbody>\n",
       "\t<tr><td>GP</td><td>F</td><td>18</td><td>no </td><td>yes</td><td>no </td><td>2</td><td>0</td><td>3</td><td> 6</td><td> 6</td><td>Medium</td></tr>\n",
       "\t<tr><td>GP</td><td>F</td><td>17</td><td>no </td><td>no </td><td>yes</td><td>2</td><td>0</td><td>3</td><td> 4</td><td> 6</td><td>Medium</td></tr>\n",
       "\t<tr><td>GP</td><td>F</td><td>15</td><td>yes</td><td>yes</td><td>yes</td><td>2</td><td>3</td><td>3</td><td>10</td><td>10</td><td>Medium</td></tr>\n",
       "\t<tr><td>⋮</td><td>⋮</td><td>⋮</td><td>⋮</td><td>⋮</td><td>⋮</td><td>⋮</td><td>⋮</td><td>⋮</td><td>⋮</td><td>⋮</td><td>⋮</td></tr>\n",
       "\t<tr><td>MS</td><td>M</td><td>21</td><td>no</td><td>no</td><td>no </td><td>1</td><td>3</td><td>3</td><td>3</td><td> 7</td><td>Medium</td></tr>\n",
       "\t<tr><td>MS</td><td>M</td><td>18</td><td>no</td><td>no</td><td>yes</td><td>1</td><td>0</td><td>5</td><td>0</td><td>10</td><td>Medium</td></tr>\n",
       "\t<tr><td>MS</td><td>M</td><td>19</td><td>no</td><td>no</td><td>yes</td><td>1</td><td>0</td><td>5</td><td>5</td><td> 9</td><td>Medium</td></tr>\n",
       "</tbody>\n",
       "</table>\n"
      ],
      "text/latex": [
       "A tibble: 395 × 12\n",
       "\\begin{tabular}{llllllllllll}\n",
       " school & sex & age & paid & schoolsup & internet & studytime & failures & health & absences & G3 & G3category\\\\\n",
       " <chr> & <chr> & <dbl> & <chr> & <chr> & <chr> & <dbl> & <dbl> & <dbl> & <dbl> & <dbl> & <fct>\\\\\n",
       "\\hline\n",
       "\t GP & F & 18 & no  & yes & no  & 2 & 0 & 3 &  6 &  6 & Medium\\\\\n",
       "\t GP & F & 17 & no  & no  & yes & 2 & 0 & 3 &  4 &  6 & Medium\\\\\n",
       "\t GP & F & 15 & yes & yes & yes & 2 & 3 & 3 & 10 & 10 & Medium\\\\\n",
       "\t ⋮ & ⋮ & ⋮ & ⋮ & ⋮ & ⋮ & ⋮ & ⋮ & ⋮ & ⋮ & ⋮ & ⋮\\\\\n",
       "\t MS & M & 21 & no & no & no  & 1 & 3 & 3 & 3 &  7 & Medium\\\\\n",
       "\t MS & M & 18 & no & no & yes & 1 & 0 & 5 & 0 & 10 & Medium\\\\\n",
       "\t MS & M & 19 & no & no & yes & 1 & 0 & 5 & 5 &  9 & Medium\\\\\n",
       "\\end{tabular}\n"
      ],
      "text/markdown": [
       "\n",
       "A tibble: 395 × 12\n",
       "\n",
       "| school &lt;chr&gt; | sex &lt;chr&gt; | age &lt;dbl&gt; | paid &lt;chr&gt; | schoolsup &lt;chr&gt; | internet &lt;chr&gt; | studytime &lt;dbl&gt; | failures &lt;dbl&gt; | health &lt;dbl&gt; | absences &lt;dbl&gt; | G3 &lt;dbl&gt; | G3category &lt;fct&gt; |\n",
       "|---|---|---|---|---|---|---|---|---|---|---|---|\n",
       "| GP | F | 18 | no  | yes | no  | 2 | 0 | 3 |  6 |  6 | Medium |\n",
       "| GP | F | 17 | no  | no  | yes | 2 | 0 | 3 |  4 |  6 | Medium |\n",
       "| GP | F | 15 | yes | yes | yes | 2 | 3 | 3 | 10 | 10 | Medium |\n",
       "| ⋮ | ⋮ | ⋮ | ⋮ | ⋮ | ⋮ | ⋮ | ⋮ | ⋮ | ⋮ | ⋮ | ⋮ |\n",
       "| MS | M | 21 | no | no | no  | 1 | 3 | 3 | 3 |  7 | Medium |\n",
       "| MS | M | 18 | no | no | yes | 1 | 0 | 5 | 0 | 10 | Medium |\n",
       "| MS | M | 19 | no | no | yes | 1 | 0 | 5 | 5 |  9 | Medium |\n",
       "\n"
      ],
      "text/plain": [
       "    school sex age paid schoolsup internet studytime failures health absences\n",
       "1   GP     F   18  no   yes       no       2         0        3       6      \n",
       "2   GP     F   17  no   no        yes      2         0        3       4      \n",
       "3   GP     F   15  yes  yes       yes      2         3        3      10      \n",
       "⋮   ⋮      ⋮   ⋮   ⋮    ⋮         ⋮        ⋮         ⋮        ⋮      ⋮       \n",
       "393 MS     M   21  no   no        no       1         3        3      3       \n",
       "394 MS     M   18  no   no        yes      1         0        5      0       \n",
       "395 MS     M   19  no   no        yes      1         0        5      5       \n",
       "    G3 G3category\n",
       "1    6 Medium    \n",
       "2    6 Medium    \n",
       "3   10 Medium    \n",
       "⋮   ⋮  ⋮         \n",
       "393  7 Medium    \n",
       "394 10 Medium    \n",
       "395  9 Medium    "
      ]
     },
     "metadata": {},
     "output_type": "display_data"
    }
   ],
   "source": [
    "set.seed(6969)\n",
    "b <- c(-Inf, 5, 10, Inf)\n",
    "\n",
    "names <- c(\"Low\", \"Medium\", \"High\")\n",
    "\n",
    "# Categorize students by the labels above\n",
    "student_clean$G3category <- cut(student_clean$G3, breaks = b, labels = names)\n",
    "\n",
    "student_clean\n",
    "\n",
    "student_split <- initial_split(student_clean, props = 0.80, strata = G3category)\n",
    "student_train <- training(student_split)\n",
    "student_test <- testing(student_split)"
   ]
  },
  {
   "cell_type": "markdown",
   "metadata": {},
   "source": [
    "#### Setup recipe and models for tuning"
   ]
  },
  {
   "cell_type": "markdown",
   "metadata": {},
   "source": [
    "After splitting the data, we then created a recipe using the training data and the variables age, absences, and failures. However, this time, we set the mode to classification. Additionally, we decided to do use a 10 fold cross-validation to determine the best K value. "
   ]
  },
  {
   "cell_type": "code",
   "execution_count": 9,
   "metadata": {},
   "outputs": [],
   "source": [
    "# Setup cross validation\n",
    "student_vfold <- vfold_cv(student_clean, v = 10, strata = G3category)\n",
    "\n",
    "# Setup recipe\n",
    "student_recipe <- recipe(G3category ~ age + absences + failures, data = student_train) %>%\n",
    "                    step_scale(all_predictors()) %>% step_center(all_predictors())\n",
    "\n",
    "# Setup classification model\n",
    "student_classification_spec <- nearest_neighbor(weight_func = \"rectangular\", neighbors = tune()) %>% set_engine(\"kknn\") %>% set_mode(\"classification\")"
   ]
  },
  {
   "cell_type": "markdown",
   "metadata": {},
   "source": [
    "#### Finding the ideal K value"
   ]
  },
  {
   "cell_type": "markdown",
   "metadata": {},
   "source": [
    "We plotted the K-nearest neighbour values against accuracy estimates to determine the most accurate K values to use, which is k = 14. "
   ]
  },
  {
   "cell_type": "code",
   "execution_count": 10,
   "metadata": {},
   "outputs": [
    {
     "data": {
      "image/png": "[encoded data removed]",
      "text/plain": [
       "plot without title"
      ]
     },
     "metadata": {
      "image/png": {
       "height": 420,
       "width": 420
      }
     },
     "output_type": "display_data"
    }
   ],
   "source": [
    "# Try 20 values of K, find best one\n",
    "student_classification_results <- workflow() %>%\n",
    "  add_recipe(student_recipe) %>%\n",
    "  add_model(student_classification_spec) %>%\n",
    "  tune_grid(resamples = student_vfold, grid = 20) %>%\n",
    "  collect_metrics()\n",
    "\n",
    "# Filter for accuracy\n",
    "accuracies <- student_classification_results %>%\n",
    "  filter(.metric == \"accuracy\")\n",
    "\n",
    "# Graph the accuracy vs. K\n",
    "accuracy_vs_k <- ggplot(accuracies, aes(x = neighbors, y = mean)) +\n",
    "  geom_point() +\n",
    "  geom_line() +\n",
    "  labs(x = \"Neighbors\", y = \"Accuracy Estimate\")\n",
    "accuracy_vs_k"
   ]
  },
  {
   "cell_type": "markdown",
   "metadata": {},
   "source": [
    "Figure 1: Predicted accuracy of model compared to Neighbors used for prediction."
   ]
  },
  {
   "cell_type": "markdown",
   "metadata": {},
   "source": [
    "#### Finding the accuracy "
   ]
  },
  {
   "cell_type": "markdown",
   "metadata": {},
   "source": [
    "From the graph above, we can see that a K value of 14 yields the best results. Using the newly found K value, we attempted to find its accuracy by K-nearest neighbours classification. \n",
    "\n",
    "Then using a workflow function, we created a workflow to create predictions. \n",
    "Then we predicted using our new workflow on our test dataset. \n",
    "\n",
    "Finally, we called `metrics` on the results of our predictions to determine the accuracy of our model (how often it determined the correct value, `G3category`, compared to the predicted column, `.pred_class`.)\n",
    "\n",
    "We found our finally model yieled a accuracy of approximately 57%."
   ]
  },
  {
   "cell_type": "code",
   "execution_count": 11,
   "metadata": {},
   "outputs": [
    {
     "data": {
      "text/plain": [
       "══ Workflow [trained] ══════════════════════════════════════════════════════════\n",
       "\u001b[3mPreprocessor:\u001b[23m Recipe\n",
       "\u001b[3mModel:\u001b[23m nearest_neighbor()\n",
       "\n",
       "── Preprocessor ────────────────────────────────────────────────────────────────\n",
       "2 Recipe Steps\n",
       "\n",
       "● step_scale()\n",
       "● step_center()\n",
       "\n",
       "── Model ───────────────────────────────────────────────────────────────────────\n",
       "\n",
       "Call:\n",
       "kknn::train.kknn(formula = ..y ~ ., data = data, ks = ~14, kernel = ~\"rectangular\")\n",
       "\n",
       "Type of response variable: nominal\n",
       "Minimal misclassification: 0.4747475\n",
       "Best kernel: rectangular\n",
       "Best k: 14"
      ]
     },
     "metadata": {},
     "output_type": "display_data"
    },
    {
     "data": {
      "text/html": [
       "<table>\n",
       "<caption>A tibble: 2 × 3</caption>\n",
       "<thead>\n",
       "\t<tr><th scope=col>.metric</th><th scope=col>.estimator</th><th scope=col>.estimate</th></tr>\n",
       "\t<tr><th scope=col>&lt;chr&gt;</th><th scope=col>&lt;chr&gt;</th><th scope=col>&lt;dbl&gt;</th></tr>\n",
       "</thead>\n",
       "<tbody>\n",
       "\t<tr><td>accuracy</td><td>multiclass</td><td>0.5714286</td></tr>\n",
       "\t<tr><td>kap     </td><td>multiclass</td><td>0.2017067</td></tr>\n",
       "</tbody>\n",
       "</table>\n"
      ],
      "text/latex": [
       "A tibble: 2 × 3\n",
       "\\begin{tabular}{lll}\n",
       " .metric & .estimator & .estimate\\\\\n",
       " <chr> & <chr> & <dbl>\\\\\n",
       "\\hline\n",
       "\t accuracy & multiclass & 0.5714286\\\\\n",
       "\t kap      & multiclass & 0.2017067\\\\\n",
       "\\end{tabular}\n"
      ],
      "text/markdown": [
       "\n",
       "A tibble: 2 × 3\n",
       "\n",
       "| .metric &lt;chr&gt; | .estimator &lt;chr&gt; | .estimate &lt;dbl&gt; |\n",
       "|---|---|---|\n",
       "| accuracy | multiclass | 0.5714286 |\n",
       "| kap      | multiclass | 0.2017067 |\n",
       "\n"
      ],
      "text/plain": [
       "  .metric  .estimator .estimate\n",
       "1 accuracy multiclass 0.5714286\n",
       "2 kap      multiclass 0.2017067"
      ]
     },
     "metadata": {},
     "output_type": "display_data"
    }
   ],
   "source": [
    "student_classification_spec <- nearest_neighbor(weight_func = \"rectangular\", neighbors = 14) %>% set_engine(\"kknn\") %>% set_mode(\"classification\")\n",
    "\n",
    "student_fit <- workflow() %>%\n",
    "  add_recipe(student_recipe) %>%\n",
    "  add_model(student_classification_spec) %>%\n",
    "  fit(data = student_train)\n",
    "student_fit\n",
    "\n",
    "\n",
    "student_predictions <- predict(student_fit, student_test) %>%\n",
    "  bind_cols(student_test) %>% metrics(truth = G3category, estimate = .pred_class)\n",
    "student_predictions\n"
   ]
  },
  {
   "cell_type": "markdown",
   "metadata": {},
   "source": [
    "## Results"
   ]
  },
  {
   "cell_type": "markdown",
   "metadata": {},
   "source": [
    "### Final Visualization Model of the Analysis"
   ]
  },
  {
   "cell_type": "code",
   "execution_count": 12,
   "metadata": {},
   "outputs": [
    {
     "data": {
      "image/png": "[encoded data removed]",
      "text/plain": [
       "plot without title"
      ]
     },
     "metadata": {
      "image/png": {
       "height": 420,
       "width": 420
      }
     },
     "output_type": "display_data"
    }
   ],
   "source": [
    "student_preds <- student_fit %>% predict(student_train) %>% bind_cols(student_train)\n",
    "\n",
    "age_15 <- student_clean %>% filter(age==15)\n",
    "age_15_G3 <- summarize(age_15 , avgG3_15 = sum(G3) / (age_15 %>% nrow()))\n",
    "age_16 <- student_clean %>% filter(age==16) \n",
    "age_16_G3 <- summarize(age_16 , avgG3_16=sum(G3) / (age_16 %>% nrow()))\n",
    "age_17 <- student_clean %>% filter(age==17) \n",
    "age_17_G3 <- summarize(age_17 , avgG3_17=sum(G3) / (age_17 %>% nrow())) \n",
    "age_18 <- student_clean %>% filter(age==18) \n",
    "age_18_G3 <- summarize(age_18 , avgG3_18=sum(G3) / (age_18 %>% nrow())) \n",
    "age_19 <- student_clean %>% filter(age==19) \n",
    "age_19_G3 <- summarize(age_19 , avgG3_19=sum(G3) / (age_19 %>% nrow())) \n",
    "age_20 <- student_clean %>% filter(age==20) \n",
    "age_20_G3 <- summarize(age_20 , avgG3_20=sum(G3) / (age_20 %>% nrow())) \n",
    "age_21 <- student_clean %>% filter(age==21) \n",
    "age_21_G3 <- summarize(age_21 , avgG3_21=sum(G3) / (age_21 %>% nrow())) \n",
    "age_22 <- student_clean %>% filter(age==22) \n",
    "age_22_G3 <- summarize(age_22 , avgG3_22=sum(G3) / (age_22 %>% nrow())) \n",
    "\n",
    "age_avgG3 <- tibble(Age = 15:22 , Avg_final_grade = c(age_15_G3,age_16_G3,age_17_G3,age_18_G3,age_19_G3,age_20_G3,age_21_G3,age_22_G3) )\n",
    "\n",
    "age_dist <- ggplot(student , aes(x=age)) + geom_bar() + labs(x= \"Age\" , y=\"Number of students\" , title=\"Distribution of Age\") + \n",
    "theme(text=element_text(size=18)) + scale_y_continuous(breaks = scales::pretty_breaks(n = 10))\n",
    "\n",
    "age_dist\n",
    "\n",
    "\n",
    "\n"
   ]
  },
  {
   "cell_type": "markdown",
   "metadata": {},
   "source": [
    "Figure 2: Distribution of grades for all students"
   ]
  },
  {
   "cell_type": "code",
   "execution_count": 13,
   "metadata": {},
   "outputs": [
    {
     "data": {
      "image/png": "[encoded data removed]",
      "text/plain": [
       "plot without title"
      ]
     },
     "metadata": {
      "image/png": {
       "height": 420,
       "width": 420
      }
     },
     "output_type": "display_data"
    }
   ],
   "source": [
    "plot <- ggplot(age_avgG3 , aes(x=Age , y=Avg_final_grade)) + geom_bar(stat=\"identity\") + \n",
    "        labs(x=\"Age\" , y=\"Average Final Grade\" , title=\"Average Final Grade for each Age\") + theme(text=element_text(size=18))\n",
    "\n",
    "plot "
   ]
  },
  {
   "cell_type": "markdown",
   "metadata": {},
   "source": [
    "Figure 3: Average final grade for each age"
   ]
  },
  {
   "cell_type": "code",
   "execution_count": 14,
   "metadata": {},
   "outputs": [
    {
     "data": {
      "image/png": "[encoded data removed]",
      "text/plain": [
       "plot without title"
      ]
     },
     "metadata": {
      "image/png": {
       "height": 420,
       "width": 420
      }
     },
     "output_type": "display_data"
    }
   ],
   "source": [
    "time1 <- student_clean %>% filter(studytime == 1) \n",
    "time1_avgG3 <- summarize(time1 , avgG3_time1 = sum(G3) / (time1 %>% nrow()))\n",
    "time2 <- student_clean %>% filter(studytime == 2) \n",
    "time2_avgG3 <- summarize(time2 , avgG3_time2 = sum(G3) / (time2 %>% nrow()))\n",
    "time3 <- student_clean %>% filter(studytime == 3) \n",
    "time3_avgG3 <- summarize(time3 , avgG3_time3 = sum(G3) / (time3 %>% nrow()))\n",
    "time4 <- student_clean %>% filter(studytime == 4) \n",
    "time4_avgG3 <- summarize(time4 , avgG3_time4 = sum(G3) / (time4 %>% nrow()))\n",
    "\n",
    "studytime_avgG3 <- tibble(time = 1:4 , Avg_final_grade = c(time1_avgG3,time2_avgG3,time3_avgG3,time4_avgG3) )\n",
    "\n",
    "studytime_plot <- ggplot(studytime_avgG3 , aes(x=time , y=Avg_final_grade)) + geom_bar(stat=\"identity\") + labs(x=\"Amount of Studying Time (out of 20)\" , y=\"Average Final Grade (out of 4)\" ,title=\"Average Final Grade for each Studying Time\") +\n",
    "theme(text=element_text(size=18))\n",
    "\n",
    "studytime_plot"
   ]
  },
  {
   "cell_type": "markdown",
   "metadata": {},
   "source": [
    "Figure 4: Average final grade for the amount of time studied "
   ]
  },
  {
   "cell_type": "code",
   "execution_count": 15,
   "metadata": {},
   "outputs": [
    {
     "data": {
      "text/html": [
       "<table>\n",
       "<caption>A tibble: 2 × 2</caption>\n",
       "<thead>\n",
       "\t<tr><th scope=col>Paid</th><th scope=col>Avg_final_grade</th></tr>\n",
       "\t<tr><th scope=col>&lt;chr&gt;</th><th scope=col>&lt;named list&gt;</th></tr>\n",
       "</thead>\n",
       "<tbody>\n",
       "\t<tr><td>Yes</td><td>10.92265</td></tr>\n",
       "\t<tr><td>No </td><td>9.985981</td></tr>\n",
       "</tbody>\n",
       "</table>\n"
      ],
      "text/latex": [
       "A tibble: 2 × 2\n",
       "\\begin{tabular}{ll}\n",
       " Paid & Avg\\_final\\_grade\\\\\n",
       " <chr> & <named list>\\\\\n",
       "\\hline\n",
       "\t Yes & 10.92265\\\\\n",
       "\t No  & 9.985981\\\\\n",
       "\\end{tabular}\n"
      ],
      "text/markdown": [
       "\n",
       "A tibble: 2 × 2\n",
       "\n",
       "| Paid &lt;chr&gt; | Avg_final_grade &lt;named list&gt; |\n",
       "|---|---|\n",
       "| Yes | 10.92265 |\n",
       "| No  | 9.985981 |\n",
       "\n"
      ],
      "text/plain": [
       "  Paid Avg_final_grade\n",
       "1 Yes  10.92265       \n",
       "2 No   9.985981       "
      ]
     },
     "metadata": {},
     "output_type": "display_data"
    },
    {
     "data": {
      "image/png": "[encoded data removed]",
      "text/plain": [
       "plot without title"
      ]
     },
     "metadata": {
      "image/png": {
       "height": 420,
       "width": 420
      }
     },
     "output_type": "display_data"
    }
   ],
   "source": [
    "paid <- student_clean %>% filter(paid == \"yes\") \n",
    "paid_avgG3 <- summarize(paid , avgG3_paid = sum(G3)) / (paid %>% nrow())\n",
    "\n",
    "no_paid <- student_clean %>% filter(paid == \"no\")\n",
    "no_paid_avgG3 <- summarize(no_paid , avgG3_no_paid = sum(G3)) / (no_paid %>% nrow())\n",
    "\n",
    "paid_avgG3 <- tibble(Paid = c(\"Yes\" , \"No\"), Avg_final_grade = c(paid_avgG3, no_paid_avgG3))\n",
    "paid_avgG3\n",
    "\n",
    "paid_plot <- ggplot(paid_avgG3 , aes(x=Paid , y=Avg_final_grade)) + geom_bar(stat=\"identity\") + labs(x=\"Extra Paid Classes?\" , y=\"Average Final Grade\" ,title=\"Average Final Grade for Extra Paid Classes\") +\n",
    "theme(text=element_text(size=18))\n",
    "\n",
    "paid_plot"
   ]
  },
  {
   "cell_type": "markdown",
   "metadata": {},
   "source": [
    "Figure 5: Average final grade for students with and without extra paid classes"
   ]
  },
  {
   "cell_type": "markdown",
   "metadata": {},
   "source": [
    "#### Visualizations Relevant to Exploratory Data Analysis"
   ]
  },
  {
   "cell_type": "markdown",
   "metadata": {},
   "source": [
    "To explore the data related to the planned analysis, we decided to take a look at the distribution of different characteristics (Studytime, health, absences, and failures) using bar graphs. This format allows us to **count** the number of students who share that attribute, and this count can be used to visualize a distribution.    \n",
    "\n",
    "The graph below describes the distribution of the number of students that study a certain amount of time. For additional context, a studytime value of 1 represents less than 2 hours of studying, a studytime value of 2 represents 2 to 5 hours, a studytime value of 3 represents 5 to 10 hours, and a studytime value of 4 represents more than 10 hours of study time."
   ]
  },
  {
   "cell_type": "code",
   "execution_count": 16,
   "metadata": {},
   "outputs": [
    {
     "data": {
      "image/png": "[encoded data removed]",
      "text/plain": [
       "plot without title"
      ]
     },
     "metadata": {
      "image/png": {
       "height": 420,
       "width": 420
      }
     },
     "output_type": "display_data"
    }
   ],
   "source": [
    "studytime_dist <- ggplot(student , aes(x=studytime)) + geom_bar() + labs(x= \"Study Time (out of 4)\" , y=\"Number of students\" , title=\"Distribution of Study Time\") + \n",
    "theme(text=element_text(size=18)) + scale_y_continuous(breaks = scales::pretty_breaks(n = 10))\n",
    " \n",
    "\n",
    "studytime_dist"
   ]
  },
  {
   "cell_type": "markdown",
   "metadata": {},
   "source": [
    "Figure 6: Distribution of study time for all students"
   ]
  },
  {
   "cell_type": "markdown",
   "metadata": {},
   "source": [
    "The graph below describes the distribution of the number of students and their health. For additional context, a health value of 1 is very bad, and a health value of 5 is very good."
   ]
  },
  {
   "cell_type": "code",
   "execution_count": 17,
   "metadata": {},
   "outputs": [
    {
     "data": {
      "image/png": "[encoded data removed]",
      "text/plain": [
       "plot without title"
      ]
     },
     "metadata": {
      "image/png": {
       "height": 420,
       "width": 420
      }
     },
     "output_type": "display_data"
    }
   ],
   "source": [
    "health_dist <- ggplot(student , aes(x=health)) + geom_bar() + labs(x= \"Health\" , y=\"Number of students\" , title=\"Distribution of Health\") + \n",
    "theme(text=element_text(size=18)) + scale_y_continuous(breaks = scales::pretty_breaks(n = 10))\n",
    "\n",
    "health_dist"
   ]
  },
  {
   "cell_type": "markdown",
   "metadata": {},
   "source": [
    "Figure 7: Distribution of health (out of 4) among all students"
   ]
  },
  {
   "cell_type": "markdown",
   "metadata": {},
   "source": [
    "The graph below describes the distribution of the number of students and the number of absences they have, ranging from 0 to 93."
   ]
  },
  {
   "cell_type": "code",
   "execution_count": 18,
   "metadata": {},
   "outputs": [
    {
     "data": {
      "image/png": "[encoded data removed]",
      "text/plain": [
       "plot without title"
      ]
     },
     "metadata": {
      "image/png": {
       "height": 420,
       "width": 420
      }
     },
     "output_type": "display_data"
    }
   ],
   "source": [
    "absences_dist <- ggplot(student , aes(x=absences)) + geom_bar() + labs(x= \"Absences\" , y=\"Number of students\" , title=\"Distribution of Absences\") + \n",
    "theme(text=element_text(size=18)) + scale_x_continuous(breaks = scales::pretty_breaks(n = 10)) + scale_y_continuous(breaks = scales::pretty_breaks(n = 10))\n",
    "\n",
    "absences_dist"
   ]
  },
  {
   "cell_type": "markdown",
   "metadata": {},
   "source": [
    "Figure 8: Distribution of absences among students"
   ]
  },
  {
   "cell_type": "markdown",
   "metadata": {},
   "source": [
    "The graph below shows the distribution of the number of students and the number of past class failures, ranging from 0 to 3."
   ]
  },
  {
   "cell_type": "code",
   "execution_count": 19,
   "metadata": {},
   "outputs": [
    {
     "data": {
      "image/png": "[encoded data removed]",
      "text/plain": [
       "plot without title"
      ]
     },
     "metadata": {
      "image/png": {
       "height": 420,
       "width": 420
      }
     },
     "output_type": "display_data"
    }
   ],
   "source": [
    "failures_dist <- ggplot(student , aes(x=failures)) + geom_bar() + labs(x= \"Failures\" , y=\"Number of students\" , title=\"Distribution of Failures\") + \n",
    "theme(text=element_text(size=18)) + scale_y_continuous(breaks = scales::pretty_breaks(n = 10))\n",
    "\n",
    "failures_dist"
   ]
  },
  {
   "cell_type": "markdown",
   "metadata": {},
   "source": [
    "Figure 9: Distribution of failures among students"
   ]
  },
  {
   "cell_type": "markdown",
   "metadata": {},
   "source": [
    "## Discussion"
   ]
  },
  {
   "cell_type": "markdown",
   "metadata": {},
   "source": [
    "### Summary of findings"
   ]
  },
  {
   "cell_type": "markdown",
   "metadata": {},
   "source": [
    "According to our regression model, there is a correlation between the variables of age, weekly study time and extra paid classes, and final math grades. There is a slight negative correlation between age and the average final math grades with age 20 being an outlier. This can be explained by the smaller population from ages 19-22 making the model not as representative as the other age groups. \n",
    "\n",
    "There is a slight positive correlation between weekly study time and average final grades however, the marks drop slightly at number 4 which represents a weekly study time of over 10 hours a week. \n",
    "\n",
    "This outcome is not surprising since the length of study time does not correlate to effective studying. Our results for extra paid classes show a positive correlation between having extra paid classes and final math grades. \n",
    "\n",
    "This is supported by research from Xu et. al 2014 which was a study on peer tutoring among undergraduate students and their final exam scores in mathematics. The results showed a positive relationship to math placement level and peer tutoring showing that additional support no matter the kind will help increase students’ grades. \n",
    "\n",
    "Unfortunately, according to our classification model, the accuracy is only 57.14%. As a result, the relationships we found with the regression model are not as accurate as we had hope and we are unable to use the data to predict Portuguese student grades based on their attributes. "
   ]
  },
  {
   "cell_type": "markdown",
   "metadata": {},
   "source": [
    "### Discuss whether this is what you expected to find?"
   ]
  },
  {
   "cell_type": "markdown",
   "metadata": {},
   "source": [
    "Our classification model shows that the accuracy is only 57% which means that our findings have little to no impact. As a result, we are unable to use the data to predict student grades based on student characteristics. \n",
    "\n",
    "Our results show that it is not plausible to use students’ characteristics and study habits to accurately predict their performance using K-nearest neighbour classification. However, there have been other studies similar to ours which used different forms of classification to predict student performance according to other attributes. \n",
    "\n",
    "A study conducted by Altabrawee and Qaisar in 2019 used 20 attributes in total but were similar to the attributes we chose to focus on, such as various study habits of students. They used four different classification models in total, logistic regression, Naïve Bayes, artificial neural networks, and decision tree. Logistic regression yielded an accuracy of 74.53%, Naïve Bayes resulted in a 66.51% accuracy, decision tree had an accuracy of 76.93% and Artificial Neural Networks had an accuracy of 77.04%. All of which higher than the accuracy we found with our model. This leads us to pose some questions of our own as the study does indeed show that there is some correlation between the attributes and final grades. \n"
   ]
  },
  {
   "cell_type": "markdown",
   "metadata": {},
   "source": [
    "### Discuss what impact could such findings have?"
   ]
  },
  {
   "cell_type": "markdown",
   "metadata": {},
   "source": [
    "With the knowledge that other studies have arrived at higher accuracies, it begs the question of how we could improve our model or data to increase our accuracy. One of the flaws we noticed in our data was that most of the numerical data were changed into categorical data which made it more difficult to determine a relationship between the attributes. Perhaps if we used the raw data, we could have created more accurate models with stronger correlations. \n",
    "If we are unable to increase the accuracy, it begs the question of if there are other ways to predict student future grades. \n"
   ]
  },
  {
   "cell_type": "markdown",
   "metadata": {},
   "source": [
    "## References"
   ]
  },
  {
   "cell_type": "markdown",
   "metadata": {},
   "source": [
    "Altabrawee, H., Ali, O. & Qaisar, S. (2019). Predicting students’ performance using machine learning techniques. *Journal of University of Babylon for pure and applied sciences*, 27(1), 194-205. http://doi:10.29196/jubpas.v27i1.2108. \n",
    "\n",
    "Cortez, P., & Silva, A. M. G. (2008). *Using data mining to predict secondary school student performance* (FUBUTEC 2008) [Data set].  In A. Brito, & J. Teixeira (Eds.), Proceedings of 5th Annual Future Business Technology Conference, Porto, 5-12. http://www3.dsi.uminho.pt/pcortez/student.pdf.\n",
    "\n",
    "Xu, Y., Hartman, S., Uribe, G. & Mencke, R. (2014). The effects of peer tutoring on undergraduate students' final examination scores in mathematics. *Journal of College Reading and Learning*, 32(1), 22-13. https://doi.org/10.1080/10790195.2001.10850123."
   ]
  }
 ],
 "metadata": {
  "kernelspec": {
   "display_name": "R",
   "language": "R",
   "name": "ir"
  },
  "language_info": {
   "codemirror_mode": "r",
   "file_extension": ".r",
   "mimetype": "text/x-r-source",
   "name": "R",
   "pygments_lexer": "r",
   "version": "4.0.0"
  }
 },
 "nbformat": 4,
 "nbformat_minor": 4
}
