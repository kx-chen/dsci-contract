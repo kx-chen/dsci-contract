{
 "cells": [
  {
   "cell_type": "markdown",
   "metadata": {},
   "source": [
    "# Can we predict math grades using student's characteristics? "
   ]
  },
  {
   "cell_type": "markdown",
   "metadata": {},
   "source": [
    "## Introduction\n"
   ]
  },
  {
   "cell_type": "markdown",
   "metadata": {},
   "source": [
    "The data set we have decided to use is the Student Performance data set, for the subject of mathematics. This data set came from two secondary schools in Portugal in 2014 using school reports. The data reflects the performance of students in Mathematics. We hope to answer the question “what attributes/characteristics would affect  final (G3) math grades in Portuguese Secondary Schools?”. Additionally, we hope to predict a student's grade by using a K nearest regression model and a classification model."
   ]
  },
  {
   "cell_type": "markdown",
   "metadata": {},
   "source": [
    "## Methods"
   ]
  },
  {
   "cell_type": "markdown",
   "metadata": {},
   "source": [
    "### Method 1: Regression Model"
   ]
  },
  {
   "cell_type": "markdown",
   "metadata": {},
   "source": [
    "#### Reading the data"
   ]
  },
  {
   "cell_type": "code",
   "execution_count": 21,
   "metadata": {},
   "outputs": [
    {
     "name": "stderr",
     "output_type": "stream",
     "text": [
      "Using ',' as decimal and '.' as grouping mark. Use read_delim() for more control.\n",
      "\n",
      "Parsed with column specification:\n",
      "cols(\n",
      "  .default = col_character(),\n",
      "  age = \u001b[32mcol_double()\u001b[39m,\n",
      "  Medu = \u001b[32mcol_double()\u001b[39m,\n",
      "  Fedu = \u001b[32mcol_double()\u001b[39m,\n",
      "  traveltime = \u001b[32mcol_double()\u001b[39m,\n",
      "  studytime = \u001b[32mcol_double()\u001b[39m,\n",
      "  failures = \u001b[32mcol_double()\u001b[39m,\n",
      "  famrel = \u001b[32mcol_double()\u001b[39m,\n",
      "  freetime = \u001b[32mcol_double()\u001b[39m,\n",
      "  goout = \u001b[32mcol_double()\u001b[39m,\n",
      "  Dalc = \u001b[32mcol_double()\u001b[39m,\n",
      "  Walc = \u001b[32mcol_double()\u001b[39m,\n",
      "  health = \u001b[32mcol_double()\u001b[39m,\n",
      "  absences = \u001b[32mcol_double()\u001b[39m,\n",
      "  G1 = \u001b[32mcol_double()\u001b[39m,\n",
      "  G2 = \u001b[32mcol_double()\u001b[39m,\n",
      "  G3 = \u001b[32mcol_double()\u001b[39m\n",
      ")\n",
      "\n",
      "See spec(...) for full column specifications.\n",
      "\n"
     ]
    },
    {
     "data": {
      "text/html": [
       "<table>\n",
       "<caption>A spec_tbl_df: 395 × 33</caption>\n",
       "<thead>\n",
       "\t<tr><th scope=col>school</th><th scope=col>sex</th><th scope=col>age</th><th scope=col>address</th><th scope=col>famsize</th><th scope=col>Pstatus</th><th scope=col>Medu</th><th scope=col>Fedu</th><th scope=col>Mjob</th><th scope=col>Fjob</th><th scope=col>⋯</th><th scope=col>famrel</th><th scope=col>freetime</th><th scope=col>goout</th><th scope=col>Dalc</th><th scope=col>Walc</th><th scope=col>health</th><th scope=col>absences</th><th scope=col>G1</th><th scope=col>G2</th><th scope=col>G3</th></tr>\n",
       "\t<tr><th scope=col>&lt;chr&gt;</th><th scope=col>&lt;chr&gt;</th><th scope=col>&lt;dbl&gt;</th><th scope=col>&lt;chr&gt;</th><th scope=col>&lt;chr&gt;</th><th scope=col>&lt;chr&gt;</th><th scope=col>&lt;dbl&gt;</th><th scope=col>&lt;dbl&gt;</th><th scope=col>&lt;chr&gt;</th><th scope=col>&lt;chr&gt;</th><th scope=col>⋯</th><th scope=col>&lt;dbl&gt;</th><th scope=col>&lt;dbl&gt;</th><th scope=col>&lt;dbl&gt;</th><th scope=col>&lt;dbl&gt;</th><th scope=col>&lt;dbl&gt;</th><th scope=col>&lt;dbl&gt;</th><th scope=col>&lt;dbl&gt;</th><th scope=col>&lt;dbl&gt;</th><th scope=col>&lt;dbl&gt;</th><th scope=col>&lt;dbl&gt;</th></tr>\n",
       "</thead>\n",
       "<tbody>\n",
       "\t<tr><td>GP</td><td>F</td><td>18</td><td>U</td><td>GT3</td><td>A</td><td>4</td><td>4</td><td>at_home</td><td>teacher</td><td>⋯</td><td>4</td><td>3</td><td>4</td><td>1</td><td>1</td><td>3</td><td> 6</td><td>5</td><td>6</td><td> 6</td></tr>\n",
       "\t<tr><td>GP</td><td>F</td><td>17</td><td>U</td><td>GT3</td><td>T</td><td>1</td><td>1</td><td>at_home</td><td>other  </td><td>⋯</td><td>5</td><td>3</td><td>3</td><td>1</td><td>1</td><td>3</td><td> 4</td><td>5</td><td>5</td><td> 6</td></tr>\n",
       "\t<tr><td>GP</td><td>F</td><td>15</td><td>U</td><td>LE3</td><td>T</td><td>1</td><td>1</td><td>at_home</td><td>other  </td><td>⋯</td><td>4</td><td>3</td><td>2</td><td>2</td><td>3</td><td>3</td><td>10</td><td>7</td><td>8</td><td>10</td></tr>\n",
       "\t<tr><td>⋮</td><td>⋮</td><td>⋮</td><td>⋮</td><td>⋮</td><td>⋮</td><td>⋮</td><td>⋮</td><td>⋮</td><td>⋮</td><td>⋱</td><td>⋮</td><td>⋮</td><td>⋮</td><td>⋮</td><td>⋮</td><td>⋮</td><td>⋮</td><td>⋮</td><td>⋮</td><td>⋮</td></tr>\n",
       "\t<tr><td>MS</td><td>M</td><td>21</td><td>R</td><td>GT3</td><td>T</td><td>1</td><td>1</td><td>other   </td><td>other  </td><td>⋯</td><td>5</td><td>5</td><td>3</td><td>3</td><td>3</td><td>3</td><td>3</td><td>10</td><td> 8</td><td> 7</td></tr>\n",
       "\t<tr><td>MS</td><td>M</td><td>18</td><td>R</td><td>LE3</td><td>T</td><td>3</td><td>2</td><td>services</td><td>other  </td><td>⋯</td><td>4</td><td>4</td><td>1</td><td>3</td><td>4</td><td>5</td><td>0</td><td>11</td><td>12</td><td>10</td></tr>\n",
       "\t<tr><td>MS</td><td>M</td><td>19</td><td>U</td><td>LE3</td><td>T</td><td>1</td><td>1</td><td>other   </td><td>at_home</td><td>⋯</td><td>3</td><td>2</td><td>3</td><td>3</td><td>3</td><td>5</td><td>5</td><td> 8</td><td> 9</td><td> 9</td></tr>\n",
       "</tbody>\n",
       "</table>\n"
      ],
      "text/latex": [
       "A spec\\_tbl\\_df: 395 × 33\n",
       "\\begin{tabular}{lllllllllllllllllllll}\n",
       " school & sex & age & address & famsize & Pstatus & Medu & Fedu & Mjob & Fjob & ⋯ & famrel & freetime & goout & Dalc & Walc & health & absences & G1 & G2 & G3\\\\\n",
       " <chr> & <chr> & <dbl> & <chr> & <chr> & <chr> & <dbl> & <dbl> & <chr> & <chr> & ⋯ & <dbl> & <dbl> & <dbl> & <dbl> & <dbl> & <dbl> & <dbl> & <dbl> & <dbl> & <dbl>\\\\\n",
       "\\hline\n",
       "\t GP & F & 18 & U & GT3 & A & 4 & 4 & at\\_home & teacher & ⋯ & 4 & 3 & 4 & 1 & 1 & 3 &  6 & 5 & 6 &  6\\\\\n",
       "\t GP & F & 17 & U & GT3 & T & 1 & 1 & at\\_home & other   & ⋯ & 5 & 3 & 3 & 1 & 1 & 3 &  4 & 5 & 5 &  6\\\\\n",
       "\t GP & F & 15 & U & LE3 & T & 1 & 1 & at\\_home & other   & ⋯ & 4 & 3 & 2 & 2 & 3 & 3 & 10 & 7 & 8 & 10\\\\\n",
       "\t ⋮ & ⋮ & ⋮ & ⋮ & ⋮ & ⋮ & ⋮ & ⋮ & ⋮ & ⋮ & ⋱ & ⋮ & ⋮ & ⋮ & ⋮ & ⋮ & ⋮ & ⋮ & ⋮ & ⋮ & ⋮\\\\\n",
       "\t MS & M & 21 & R & GT3 & T & 1 & 1 & other    & other   & ⋯ & 5 & 5 & 3 & 3 & 3 & 3 & 3 & 10 &  8 &  7\\\\\n",
       "\t MS & M & 18 & R & LE3 & T & 3 & 2 & services & other   & ⋯ & 4 & 4 & 1 & 3 & 4 & 5 & 0 & 11 & 12 & 10\\\\\n",
       "\t MS & M & 19 & U & LE3 & T & 1 & 1 & other    & at\\_home & ⋯ & 3 & 2 & 3 & 3 & 3 & 5 & 5 &  8 &  9 &  9\\\\\n",
       "\\end{tabular}\n"
      ],
      "text/markdown": [
       "\n",
       "A spec_tbl_df: 395 × 33\n",
       "\n",
       "| school &lt;chr&gt; | sex &lt;chr&gt; | age &lt;dbl&gt; | address &lt;chr&gt; | famsize &lt;chr&gt; | Pstatus &lt;chr&gt; | Medu &lt;dbl&gt; | Fedu &lt;dbl&gt; | Mjob &lt;chr&gt; | Fjob &lt;chr&gt; | ⋯ ⋯ | famrel &lt;dbl&gt; | freetime &lt;dbl&gt; | goout &lt;dbl&gt; | Dalc &lt;dbl&gt; | Walc &lt;dbl&gt; | health &lt;dbl&gt; | absences &lt;dbl&gt; | G1 &lt;dbl&gt; | G2 &lt;dbl&gt; | G3 &lt;dbl&gt; |\n",
       "|---|---|---|---|---|---|---|---|---|---|---|---|---|---|---|---|---|---|---|---|---|\n",
       "| GP | F | 18 | U | GT3 | A | 4 | 4 | at_home | teacher | ⋯ | 4 | 3 | 4 | 1 | 1 | 3 |  6 | 5 | 6 |  6 |\n",
       "| GP | F | 17 | U | GT3 | T | 1 | 1 | at_home | other   | ⋯ | 5 | 3 | 3 | 1 | 1 | 3 |  4 | 5 | 5 |  6 |\n",
       "| GP | F | 15 | U | LE3 | T | 1 | 1 | at_home | other   | ⋯ | 4 | 3 | 2 | 2 | 3 | 3 | 10 | 7 | 8 | 10 |\n",
       "| ⋮ | ⋮ | ⋮ | ⋮ | ⋮ | ⋮ | ⋮ | ⋮ | ⋮ | ⋮ | ⋱ | ⋮ | ⋮ | ⋮ | ⋮ | ⋮ | ⋮ | ⋮ | ⋮ | ⋮ | ⋮ |\n",
       "| MS | M | 21 | R | GT3 | T | 1 | 1 | other    | other   | ⋯ | 5 | 5 | 3 | 3 | 3 | 3 | 3 | 10 |  8 |  7 |\n",
       "| MS | M | 18 | R | LE3 | T | 3 | 2 | services | other   | ⋯ | 4 | 4 | 1 | 3 | 4 | 5 | 0 | 11 | 12 | 10 |\n",
       "| MS | M | 19 | U | LE3 | T | 1 | 1 | other    | at_home | ⋯ | 3 | 2 | 3 | 3 | 3 | 5 | 5 |  8 |  9 |  9 |\n",
       "\n"
      ],
      "text/plain": [
       "    school sex age address famsize Pstatus Medu Fedu Mjob     Fjob    ⋯ famrel\n",
       "1   GP     F   18  U       GT3     A       4    4    at_home  teacher ⋯ 4     \n",
       "2   GP     F   17  U       GT3     T       1    1    at_home  other   ⋯ 5     \n",
       "3   GP     F   15  U       LE3     T       1    1    at_home  other   ⋯ 4     \n",
       "⋮   ⋮      ⋮   ⋮   ⋮       ⋮       ⋮       ⋮    ⋮    ⋮        ⋮       ⋱ ⋮     \n",
       "393 MS     M   21  R       GT3     T       1    1    other    other   ⋯ 5     \n",
       "394 MS     M   18  R       LE3     T       3    2    services other   ⋯ 4     \n",
       "395 MS     M   19  U       LE3     T       1    1    other    at_home ⋯ 3     \n",
       "    freetime goout Dalc Walc health absences G1 G2 G3\n",
       "1   3        4     1    1    3       6       5  6   6\n",
       "2   3        3     1    1    3       4       5  5   6\n",
       "3   3        2     2    3    3      10       7  8  10\n",
       "⋮   ⋮        ⋮     ⋮    ⋮    ⋮      ⋮        ⋮  ⋮  ⋮ \n",
       "393 5        3     3    3    3      3        10  8  7\n",
       "394 4        1     3    4    5      0        11 12 10\n",
       "395 2        3     3    3    5      5         8  9  9"
      ]
     },
     "metadata": {},
     "output_type": "display_data"
    }
   ],
   "source": [
    "library(tidyverse)\n",
    "library(tidymodels)\n",
    "options(repr.matrix.max.rows = 6)\n",
    "student <- read_csv2(\"https://raw.githubusercontent.com/kx-chen/dsci-contract/master/student-mat.csv\")\n",
    "student"
   ]
  },
  {
   "cell_type": "markdown",
   "metadata": {},
   "source": [
    "#### Cleaning the Data"
   ]
  },
  {
   "cell_type": "code",
   "execution_count": 59,
   "metadata": {},
   "outputs": [
    {
     "data": {
      "text/html": [
       "<table>\n",
       "<caption>A tibble: 395 × 11</caption>\n",
       "<thead>\n",
       "\t<tr><th scope=col>school</th><th scope=col>sex</th><th scope=col>age</th><th scope=col>paid</th><th scope=col>schoolsup</th><th scope=col>internet</th><th scope=col>studytime</th><th scope=col>failures</th><th scope=col>health</th><th scope=col>absences</th><th scope=col>G3</th></tr>\n",
       "\t<tr><th scope=col>&lt;chr&gt;</th><th scope=col>&lt;chr&gt;</th><th scope=col>&lt;dbl&gt;</th><th scope=col>&lt;chr&gt;</th><th scope=col>&lt;chr&gt;</th><th scope=col>&lt;chr&gt;</th><th scope=col>&lt;dbl&gt;</th><th scope=col>&lt;dbl&gt;</th><th scope=col>&lt;dbl&gt;</th><th scope=col>&lt;dbl&gt;</th><th scope=col>&lt;dbl&gt;</th></tr>\n",
       "</thead>\n",
       "<tbody>\n",
       "\t<tr><td>GP</td><td>F</td><td>18</td><td>no </td><td>yes</td><td>no </td><td>2</td><td>0</td><td>3</td><td> 6</td><td> 6</td></tr>\n",
       "\t<tr><td>GP</td><td>F</td><td>17</td><td>no </td><td>no </td><td>yes</td><td>2</td><td>0</td><td>3</td><td> 4</td><td> 6</td></tr>\n",
       "\t<tr><td>GP</td><td>F</td><td>15</td><td>yes</td><td>yes</td><td>yes</td><td>2</td><td>3</td><td>3</td><td>10</td><td>10</td></tr>\n",
       "\t<tr><td>⋮</td><td>⋮</td><td>⋮</td><td>⋮</td><td>⋮</td><td>⋮</td><td>⋮</td><td>⋮</td><td>⋮</td><td>⋮</td><td>⋮</td></tr>\n",
       "\t<tr><td>MS</td><td>M</td><td>21</td><td>no</td><td>no</td><td>no </td><td>1</td><td>3</td><td>3</td><td>3</td><td> 7</td></tr>\n",
       "\t<tr><td>MS</td><td>M</td><td>18</td><td>no</td><td>no</td><td>yes</td><td>1</td><td>0</td><td>5</td><td>0</td><td>10</td></tr>\n",
       "\t<tr><td>MS</td><td>M</td><td>19</td><td>no</td><td>no</td><td>yes</td><td>1</td><td>0</td><td>5</td><td>5</td><td> 9</td></tr>\n",
       "</tbody>\n",
       "</table>\n"
      ],
      "text/latex": [
       "A tibble: 395 × 11\n",
       "\\begin{tabular}{lllllllllll}\n",
       " school & sex & age & paid & schoolsup & internet & studytime & failures & health & absences & G3\\\\\n",
       " <chr> & <chr> & <dbl> & <chr> & <chr> & <chr> & <dbl> & <dbl> & <dbl> & <dbl> & <dbl>\\\\\n",
       "\\hline\n",
       "\t GP & F & 18 & no  & yes & no  & 2 & 0 & 3 &  6 &  6\\\\\n",
       "\t GP & F & 17 & no  & no  & yes & 2 & 0 & 3 &  4 &  6\\\\\n",
       "\t GP & F & 15 & yes & yes & yes & 2 & 3 & 3 & 10 & 10\\\\\n",
       "\t ⋮ & ⋮ & ⋮ & ⋮ & ⋮ & ⋮ & ⋮ & ⋮ & ⋮ & ⋮ & ⋮\\\\\n",
       "\t MS & M & 21 & no & no & no  & 1 & 3 & 3 & 3 &  7\\\\\n",
       "\t MS & M & 18 & no & no & yes & 1 & 0 & 5 & 0 & 10\\\\\n",
       "\t MS & M & 19 & no & no & yes & 1 & 0 & 5 & 5 &  9\\\\\n",
       "\\end{tabular}\n"
      ],
      "text/markdown": [
       "\n",
       "A tibble: 395 × 11\n",
       "\n",
       "| school &lt;chr&gt; | sex &lt;chr&gt; | age &lt;dbl&gt; | paid &lt;chr&gt; | schoolsup &lt;chr&gt; | internet &lt;chr&gt; | studytime &lt;dbl&gt; | failures &lt;dbl&gt; | health &lt;dbl&gt; | absences &lt;dbl&gt; | G3 &lt;dbl&gt; |\n",
       "|---|---|---|---|---|---|---|---|---|---|---|\n",
       "| GP | F | 18 | no  | yes | no  | 2 | 0 | 3 |  6 |  6 |\n",
       "| GP | F | 17 | no  | no  | yes | 2 | 0 | 3 |  4 |  6 |\n",
       "| GP | F | 15 | yes | yes | yes | 2 | 3 | 3 | 10 | 10 |\n",
       "| ⋮ | ⋮ | ⋮ | ⋮ | ⋮ | ⋮ | ⋮ | ⋮ | ⋮ | ⋮ | ⋮ |\n",
       "| MS | M | 21 | no | no | no  | 1 | 3 | 3 | 3 |  7 |\n",
       "| MS | M | 18 | no | no | yes | 1 | 0 | 5 | 0 | 10 |\n",
       "| MS | M | 19 | no | no | yes | 1 | 0 | 5 | 5 |  9 |\n",
       "\n"
      ],
      "text/plain": [
       "    school sex age paid schoolsup internet studytime failures health absences\n",
       "1   GP     F   18  no   yes       no       2         0        3       6      \n",
       "2   GP     F   17  no   no        yes      2         0        3       4      \n",
       "3   GP     F   15  yes  yes       yes      2         3        3      10      \n",
       "⋮   ⋮      ⋮   ⋮   ⋮    ⋮         ⋮        ⋮         ⋮        ⋮      ⋮       \n",
       "393 MS     M   21  no   no        no       1         3        3      3       \n",
       "394 MS     M   18  no   no        yes      1         0        5      0       \n",
       "395 MS     M   19  no   no        yes      1         0        5      5       \n",
       "    G3\n",
       "1    6\n",
       "2    6\n",
       "3   10\n",
       "⋮   ⋮ \n",
       "393  7\n",
       "394 10\n",
       "395  9"
      ]
     },
     "metadata": {},
     "output_type": "display_data"
    }
   ],
   "source": [
    "student_clean <- student %>% select(school, sex, age, paid, schoolsup, internet, studytime, failures, health, absences, G3)\n",
    "student_clean"
   ]
  },
  {
   "cell_type": "markdown",
   "metadata": {},
   "source": [
    "#### Visualizations Relevant to Exploratory Data Analysis"
   ]
  },
  {
   "cell_type": "markdown",
   "metadata": {},
   "source": [
    "To explore the data related to the planned analysis, we decided to take a look at the distribution of different characteristics (Studytime, health, absences, and failures) using bar graphs. This format allows us to **count** the number of students who share that attribute, and this count can be used to visualize a distribution.    "
   ]
  },
  {
   "cell_type": "code",
   "execution_count": 67,
   "metadata": {},
   "outputs": [
    {
     "data": {
      "text/html": [
       "'The graph below describes the distribution of the number of students that study a certain amount of time. For additional context, a studytime value of 1 represents less than 2 hours of studying, a studytime value of 2 represents 2 to 5 hours, a studytime value of 3 represents 5 to 10 hours, and a studytime value of 4 represents more than 10 hours of study time.'"
      ],
      "text/latex": [
       "'The graph below describes the distribution of the number of students that study a certain amount of time. For additional context, a studytime value of 1 represents less than 2 hours of studying, a studytime value of 2 represents 2 to 5 hours, a studytime value of 3 represents 5 to 10 hours, and a studytime value of 4 represents more than 10 hours of study time.'"
      ],
      "text/markdown": [
       "'The graph below describes the distribution of the number of students that study a certain amount of time. For additional context, a studytime value of 1 represents less than 2 hours of studying, a studytime value of 2 represents 2 to 5 hours, a studytime value of 3 represents 5 to 10 hours, and a studytime value of 4 represents more than 10 hours of study time.'"
      ],
      "text/plain": [
       "[1] \"The graph below describes the distribution of the number of students that study a certain amount of time. For additional context, a studytime value of 1 represents less than 2 hours of studying, a studytime value of 2 represents 2 to 5 hours, a studytime value of 3 represents 5 to 10 hours, and a studytime value of 4 represents more than 10 hours of study time.\""
      ]
     },
     "metadata": {},
     "output_type": "display_data"
    },
    {
     "data": {
      "image/png": "[encoded data removed]",
      "text/plain": [
       "plot without title"
      ]
     },
     "metadata": {
      "image/png": {
       "height": 420,
       "width": 420
      }
     },
     "output_type": "display_data"
    }
   ],
   "source": [
    "studytime_dist <- ggplot(student , aes(x=studytime)) + geom_bar() + labs(x= \"Studytime\" , y=\"Number of students\" , title=\"Distribution of Studytime\") + \n",
    "theme(text=element_text(size=18)) + scale_y_continuous(breaks = scales::pretty_breaks(n = 10))\n",
    "\n",
    "\"The graph below describes the distribution of the number of students that study a certain amount of time. For additional context, a studytime value of 1 represents less than 2 hours of studying, a studytime value of 2 represents 2 to 5 hours, a studytime value of 3 represents 5 to 10 hours, and a studytime value of 4 represents more than 10 hours of study time.\" \n",
    "\n",
    "studytime_dist"
   ]
  },
  {
   "cell_type": "code",
   "execution_count": 73,
   "metadata": {},
   "outputs": [
    {
     "data": {
      "text/html": [
       "'The graph below describes the distribution of the number of students and their health. For additional context, a health value of 1 is very bad, and a health value of 5 is very good.'"
      ],
      "text/latex": [
       "'The graph below describes the distribution of the number of students and their health. For additional context, a health value of 1 is very bad, and a health value of 5 is very good.'"
      ],
      "text/markdown": [
       "'The graph below describes the distribution of the number of students and their health. For additional context, a health value of 1 is very bad, and a health value of 5 is very good.'"
      ],
      "text/plain": [
       "[1] \"The graph below describes the distribution of the number of students and their health. For additional context, a health value of 1 is very bad, and a health value of 5 is very good.\""
      ]
     },
     "metadata": {},
     "output_type": "display_data"
    },
    {
     "data": {
      "image/png": "[encoded data removed]",
      "text/plain": [
       "plot without title"
      ]
     },
     "metadata": {
      "image/png": {
       "height": 420,
       "width": 420
      }
     },
     "output_type": "display_data"
    }
   ],
   "source": [
    "health_dist <- ggplot(student , aes(x=health)) + geom_bar() + labs(x= \"Health\" , y=\"Number of students\" , title=\"Distribution of Health\") + \n",
    "theme(text=element_text(size=18)) + scale_y_continuous(breaks = scales::pretty_breaks(n = 10))\n",
    "\n",
    "\"The graph below describes the distribution of the number of students and their health. For additional context, a health value of 1 is very bad, and a health value of 5 is very good.\" \n",
    "\n",
    "health_dist"
   ]
  },
  {
   "cell_type": "code",
   "execution_count": 71,
   "metadata": {},
   "outputs": [
    {
     "data": {
      "text/html": [
       "'The graph below describes the distribution of the number of students and the number of absences they have, ranging from 0 to 93.'"
      ],
      "text/latex": [
       "'The graph below describes the distribution of the number of students and the number of absences they have, ranging from 0 to 93.'"
      ],
      "text/markdown": [
       "'The graph below describes the distribution of the number of students and the number of absences they have, ranging from 0 to 93.'"
      ],
      "text/plain": [
       "[1] \"The graph below describes the distribution of the number of students and the number of absences they have, ranging from 0 to 93.\""
      ]
     },
     "metadata": {},
     "output_type": "display_data"
    },
    {
     "data": {
      "image/png": "[encoded data removed]",
      "text/plain": [
       "plot without title"
      ]
     },
     "metadata": {
      "image/png": {
       "height": 420,
       "width": 420
      }
     },
     "output_type": "display_data"
    }
   ],
   "source": [
    "absences_dist <- ggplot(student , aes(x=absences)) + geom_bar() + labs(x= \"Absences\" , y=\"Number of students\" , title=\"Distribution of Absences\") + \n",
    "theme(text=element_text(size=18)) + scale_x_continuous(breaks = scales::pretty_breaks(n = 10)) + scale_y_continuous(breaks = scales::pretty_breaks(n = 10))\n",
    "\n",
    "\"The graph below describes the distribution of the number of students and the number of absences they have, ranging from 0 to 93.\"\n",
    "\n",
    "absences_dist"
   ]
  },
  {
   "cell_type": "code",
   "execution_count": 72,
   "metadata": {},
   "outputs": [
    {
     "data": {
      "text/html": [
       "'The graph below describes the distribution of the number of students and the number of past class failures, ranging from 0 to 3.'"
      ],
      "text/latex": [
       "'The graph below describes the distribution of the number of students and the number of past class failures, ranging from 0 to 3.'"
      ],
      "text/markdown": [
       "'The graph below describes the distribution of the number of students and the number of past class failures, ranging from 0 to 3.'"
      ],
      "text/plain": [
       "[1] \"The graph below describes the distribution of the number of students and the number of past class failures, ranging from 0 to 3.\""
      ]
     },
     "metadata": {},
     "output_type": "display_data"
    },
    {
     "data": {
      "image/png": "[encoded data removed]",
      "text/plain": [
       "plot without title"
      ]
     },
     "metadata": {
      "image/png": {
       "height": 420,
       "width": 420
      }
     },
     "output_type": "display_data"
    }
   ],
   "source": [
    "failures_dist <- ggplot(student , aes(x=failures)) + geom_bar() + labs(x= \"Failures\" , y=\"Number of students\" , title=\"Distribution of Failures\") + \n",
    "theme(text=element_text(size=18)) + scale_y_continuous(breaks = scales::pretty_breaks(n = 10))\n",
    "\n",
    "\"The graph below shows the distribution of the number of students and the number of past class failures, ranging from 0 to 3.\"\n",
    "\n",
    "failures_dist"
   ]
  },
  {
   "cell_type": "markdown",
   "metadata": {},
   "source": [
    "#### Setting up"
   ]
  },
  {
   "cell_type": "code",
   "execution_count": 6,
   "metadata": {},
   "outputs": [
    {
     "data": {
      "text/plain": [
       "<Analysis/Assess/Total>\n",
       "<298/97/395>"
      ]
     },
     "metadata": {},
     "output_type": "display_data"
    },
    {
     "data": {
      "text/html": [
       "<table>\n",
       "<caption>A tibble: 298 × 13</caption>\n",
       "<thead>\n",
       "\t<tr><th scope=col>school</th><th scope=col>sex</th><th scope=col>age</th><th scope=col>paid</th><th scope=col>schoolsup</th><th scope=col>internet</th><th scope=col>studytime</th><th scope=col>failures</th><th scope=col>health</th><th scope=col>absences</th><th scope=col>G1</th><th scope=col>G2</th><th scope=col>G3</th></tr>\n",
       "\t<tr><th scope=col>&lt;chr&gt;</th><th scope=col>&lt;chr&gt;</th><th scope=col>&lt;dbl&gt;</th><th scope=col>&lt;chr&gt;</th><th scope=col>&lt;chr&gt;</th><th scope=col>&lt;chr&gt;</th><th scope=col>&lt;dbl&gt;</th><th scope=col>&lt;dbl&gt;</th><th scope=col>&lt;dbl&gt;</th><th scope=col>&lt;dbl&gt;</th><th scope=col>&lt;dbl&gt;</th><th scope=col>&lt;dbl&gt;</th><th scope=col>&lt;dbl&gt;</th></tr>\n",
       "</thead>\n",
       "<tbody>\n",
       "\t<tr><td>GP</td><td>F</td><td>17</td><td>no </td><td>no </td><td>yes</td><td>2</td><td>0</td><td>3</td><td> 4</td><td> 5</td><td> 5</td><td> 6</td></tr>\n",
       "\t<tr><td>GP</td><td>F</td><td>15</td><td>yes</td><td>yes</td><td>yes</td><td>2</td><td>3</td><td>3</td><td>10</td><td> 7</td><td> 8</td><td>10</td></tr>\n",
       "\t<tr><td>GP</td><td>F</td><td>15</td><td>yes</td><td>no </td><td>yes</td><td>3</td><td>0</td><td>5</td><td> 2</td><td>15</td><td>14</td><td>15</td></tr>\n",
       "\t<tr><td>⋮</td><td>⋮</td><td>⋮</td><td>⋮</td><td>⋮</td><td>⋮</td><td>⋮</td><td>⋮</td><td>⋮</td><td>⋮</td><td>⋮</td><td>⋮</td><td>⋮</td></tr>\n",
       "\t<tr><td>MS</td><td>M</td><td>21</td><td>no</td><td>no</td><td>no </td><td>1</td><td>3</td><td>3</td><td>3</td><td>10</td><td> 8</td><td> 7</td></tr>\n",
       "\t<tr><td>MS</td><td>M</td><td>18</td><td>no</td><td>no</td><td>yes</td><td>1</td><td>0</td><td>5</td><td>0</td><td>11</td><td>12</td><td>10</td></tr>\n",
       "\t<tr><td>MS</td><td>M</td><td>19</td><td>no</td><td>no</td><td>yes</td><td>1</td><td>0</td><td>5</td><td>5</td><td> 8</td><td> 9</td><td> 9</td></tr>\n",
       "</tbody>\n",
       "</table>\n"
      ],
      "text/latex": [
       "A tibble: 298 × 13\n",
       "\\begin{tabular}{lllllllllllll}\n",
       " school & sex & age & paid & schoolsup & internet & studytime & failures & health & absences & G1 & G2 & G3\\\\\n",
       " <chr> & <chr> & <dbl> & <chr> & <chr> & <chr> & <dbl> & <dbl> & <dbl> & <dbl> & <dbl> & <dbl> & <dbl>\\\\\n",
       "\\hline\n",
       "\t GP & F & 17 & no  & no  & yes & 2 & 0 & 3 &  4 &  5 &  5 &  6\\\\\n",
       "\t GP & F & 15 & yes & yes & yes & 2 & 3 & 3 & 10 &  7 &  8 & 10\\\\\n",
       "\t GP & F & 15 & yes & no  & yes & 3 & 0 & 5 &  2 & 15 & 14 & 15\\\\\n",
       "\t ⋮ & ⋮ & ⋮ & ⋮ & ⋮ & ⋮ & ⋮ & ⋮ & ⋮ & ⋮ & ⋮ & ⋮ & ⋮\\\\\n",
       "\t MS & M & 21 & no & no & no  & 1 & 3 & 3 & 3 & 10 &  8 &  7\\\\\n",
       "\t MS & M & 18 & no & no & yes & 1 & 0 & 5 & 0 & 11 & 12 & 10\\\\\n",
       "\t MS & M & 19 & no & no & yes & 1 & 0 & 5 & 5 &  8 &  9 &  9\\\\\n",
       "\\end{tabular}\n"
      ],
      "text/markdown": [
       "\n",
       "A tibble: 298 × 13\n",
       "\n",
       "| school &lt;chr&gt; | sex &lt;chr&gt; | age &lt;dbl&gt; | paid &lt;chr&gt; | schoolsup &lt;chr&gt; | internet &lt;chr&gt; | studytime &lt;dbl&gt; | failures &lt;dbl&gt; | health &lt;dbl&gt; | absences &lt;dbl&gt; | G1 &lt;dbl&gt; | G2 &lt;dbl&gt; | G3 &lt;dbl&gt; |\n",
       "|---|---|---|---|---|---|---|---|---|---|---|---|---|\n",
       "| GP | F | 17 | no  | no  | yes | 2 | 0 | 3 |  4 |  5 |  5 |  6 |\n",
       "| GP | F | 15 | yes | yes | yes | 2 | 3 | 3 | 10 |  7 |  8 | 10 |\n",
       "| GP | F | 15 | yes | no  | yes | 3 | 0 | 5 |  2 | 15 | 14 | 15 |\n",
       "| ⋮ | ⋮ | ⋮ | ⋮ | ⋮ | ⋮ | ⋮ | ⋮ | ⋮ | ⋮ | ⋮ | ⋮ | ⋮ |\n",
       "| MS | M | 21 | no | no | no  | 1 | 3 | 3 | 3 | 10 |  8 |  7 |\n",
       "| MS | M | 18 | no | no | yes | 1 | 0 | 5 | 0 | 11 | 12 | 10 |\n",
       "| MS | M | 19 | no | no | yes | 1 | 0 | 5 | 5 |  8 |  9 |  9 |\n",
       "\n"
      ],
      "text/plain": [
       "    school sex age paid schoolsup internet studytime failures health absences\n",
       "1   GP     F   17  no   no        yes      2         0        3       4      \n",
       "2   GP     F   15  yes  yes       yes      2         3        3      10      \n",
       "3   GP     F   15  yes  no        yes      3         0        5       2      \n",
       "⋮   ⋮      ⋮   ⋮   ⋮    ⋮         ⋮        ⋮         ⋮        ⋮      ⋮       \n",
       "296 MS     M   21  no   no        no       1         3        3      3       \n",
       "297 MS     M   18  no   no        yes      1         0        5      0       \n",
       "298 MS     M   19  no   no        yes      1         0        5      5       \n",
       "    G1 G2 G3\n",
       "1    5  5  6\n",
       "2    7  8 10\n",
       "3   15 14 15\n",
       "⋮   ⋮  ⋮  ⋮ \n",
       "296 10  8  7\n",
       "297 11 12 10\n",
       "298  8  9  9"
      ]
     },
     "metadata": {},
     "output_type": "display_data"
    },
    {
     "data": {
      "text/html": [
       "<table>\n",
       "<caption>A tibble: 97 × 13</caption>\n",
       "<thead>\n",
       "\t<tr><th scope=col>school</th><th scope=col>sex</th><th scope=col>age</th><th scope=col>paid</th><th scope=col>schoolsup</th><th scope=col>internet</th><th scope=col>studytime</th><th scope=col>failures</th><th scope=col>health</th><th scope=col>absences</th><th scope=col>G1</th><th scope=col>G2</th><th scope=col>G3</th></tr>\n",
       "\t<tr><th scope=col>&lt;chr&gt;</th><th scope=col>&lt;chr&gt;</th><th scope=col>&lt;dbl&gt;</th><th scope=col>&lt;chr&gt;</th><th scope=col>&lt;chr&gt;</th><th scope=col>&lt;chr&gt;</th><th scope=col>&lt;dbl&gt;</th><th scope=col>&lt;dbl&gt;</th><th scope=col>&lt;dbl&gt;</th><th scope=col>&lt;dbl&gt;</th><th scope=col>&lt;dbl&gt;</th><th scope=col>&lt;dbl&gt;</th><th scope=col>&lt;dbl&gt;</th></tr>\n",
       "</thead>\n",
       "<tbody>\n",
       "\t<tr><td>GP</td><td>F</td><td>18</td><td>no</td><td>yes</td><td>no </td><td>2</td><td>0</td><td>3</td><td>6</td><td> 5</td><td> 6</td><td> 6</td></tr>\n",
       "\t<tr><td>GP</td><td>M</td><td>16</td><td>no</td><td>no </td><td>yes</td><td>2</td><td>0</td><td>3</td><td>0</td><td>12</td><td>12</td><td>11</td></tr>\n",
       "\t<tr><td>GP</td><td>F</td><td>15</td><td>no</td><td>no </td><td>yes</td><td>3</td><td>0</td><td>4</td><td>4</td><td>10</td><td>12</td><td>12</td></tr>\n",
       "\t<tr><td>⋮</td><td>⋮</td><td>⋮</td><td>⋮</td><td>⋮</td><td>⋮</td><td>⋮</td><td>⋮</td><td>⋮</td><td>⋮</td><td>⋮</td><td>⋮</td><td>⋮</td></tr>\n",
       "\t<tr><td>MS</td><td>F</td><td>18</td><td>yes</td><td>no</td><td>no </td><td>3</td><td>0</td><td>4</td><td>2</td><td>10</td><td>9</td><td>10</td></tr>\n",
       "\t<tr><td>MS</td><td>F</td><td>18</td><td>yes</td><td>no</td><td>yes</td><td>1</td><td>0</td><td>5</td><td>7</td><td> 6</td><td>5</td><td> 6</td></tr>\n",
       "\t<tr><td>MS</td><td>F</td><td>18</td><td>yes</td><td>no</td><td>yes</td><td>2</td><td>0</td><td>1</td><td>0</td><td> 7</td><td>9</td><td> 8</td></tr>\n",
       "</tbody>\n",
       "</table>\n"
      ],
      "text/latex": [
       "A tibble: 97 × 13\n",
       "\\begin{tabular}{lllllllllllll}\n",
       " school & sex & age & paid & schoolsup & internet & studytime & failures & health & absences & G1 & G2 & G3\\\\\n",
       " <chr> & <chr> & <dbl> & <chr> & <chr> & <chr> & <dbl> & <dbl> & <dbl> & <dbl> & <dbl> & <dbl> & <dbl>\\\\\n",
       "\\hline\n",
       "\t GP & F & 18 & no & yes & no  & 2 & 0 & 3 & 6 &  5 &  6 &  6\\\\\n",
       "\t GP & M & 16 & no & no  & yes & 2 & 0 & 3 & 0 & 12 & 12 & 11\\\\\n",
       "\t GP & F & 15 & no & no  & yes & 3 & 0 & 4 & 4 & 10 & 12 & 12\\\\\n",
       "\t ⋮ & ⋮ & ⋮ & ⋮ & ⋮ & ⋮ & ⋮ & ⋮ & ⋮ & ⋮ & ⋮ & ⋮ & ⋮\\\\\n",
       "\t MS & F & 18 & yes & no & no  & 3 & 0 & 4 & 2 & 10 & 9 & 10\\\\\n",
       "\t MS & F & 18 & yes & no & yes & 1 & 0 & 5 & 7 &  6 & 5 &  6\\\\\n",
       "\t MS & F & 18 & yes & no & yes & 2 & 0 & 1 & 0 &  7 & 9 &  8\\\\\n",
       "\\end{tabular}\n"
      ],
      "text/markdown": [
       "\n",
       "A tibble: 97 × 13\n",
       "\n",
       "| school &lt;chr&gt; | sex &lt;chr&gt; | age &lt;dbl&gt; | paid &lt;chr&gt; | schoolsup &lt;chr&gt; | internet &lt;chr&gt; | studytime &lt;dbl&gt; | failures &lt;dbl&gt; | health &lt;dbl&gt; | absences &lt;dbl&gt; | G1 &lt;dbl&gt; | G2 &lt;dbl&gt; | G3 &lt;dbl&gt; |\n",
       "|---|---|---|---|---|---|---|---|---|---|---|---|---|\n",
       "| GP | F | 18 | no | yes | no  | 2 | 0 | 3 | 6 |  5 |  6 |  6 |\n",
       "| GP | M | 16 | no | no  | yes | 2 | 0 | 3 | 0 | 12 | 12 | 11 |\n",
       "| GP | F | 15 | no | no  | yes | 3 | 0 | 4 | 4 | 10 | 12 | 12 |\n",
       "| ⋮ | ⋮ | ⋮ | ⋮ | ⋮ | ⋮ | ⋮ | ⋮ | ⋮ | ⋮ | ⋮ | ⋮ | ⋮ |\n",
       "| MS | F | 18 | yes | no | no  | 3 | 0 | 4 | 2 | 10 | 9 | 10 |\n",
       "| MS | F | 18 | yes | no | yes | 1 | 0 | 5 | 7 |  6 | 5 |  6 |\n",
       "| MS | F | 18 | yes | no | yes | 2 | 0 | 1 | 0 |  7 | 9 |  8 |\n",
       "\n"
      ],
      "text/plain": [
       "   school sex age paid schoolsup internet studytime failures health absences G1\n",
       "1  GP     F   18  no   yes       no       2         0        3      6         5\n",
       "2  GP     M   16  no   no        yes      2         0        3      0        12\n",
       "3  GP     F   15  no   no        yes      3         0        4      4        10\n",
       "⋮  ⋮      ⋮   ⋮   ⋮    ⋮         ⋮        ⋮         ⋮        ⋮      ⋮        ⋮ \n",
       "95 MS     F   18  yes  no        no       3         0        4      2        10\n",
       "96 MS     F   18  yes  no        yes      1         0        5      7         6\n",
       "97 MS     F   18  yes  no        yes      2         0        1      0         7\n",
       "   G2 G3\n",
       "1   6  6\n",
       "2  12 11\n",
       "3  12 12\n",
       "⋮  ⋮  ⋮ \n",
       "95 9  10\n",
       "96 5   6\n",
       "97 9   8"
      ]
     },
     "metadata": {},
     "output_type": "display_data"
    }
   ],
   "source": [
    "student_split <- initial_split(student_clean, props = 0.80, strata = G3)\n",
    "student_train <- training(student_split)\n",
    "student_test <- testing(student_split)\n",
    "\n",
    "student_split\n",
    "student_train\n",
    "student_test"
   ]
  },
  {
   "cell_type": "markdown",
   "metadata": {},
   "source": [
    "#### Setting up recipe and model"
   ]
  },
  {
   "cell_type": "code",
   "execution_count": 74,
   "metadata": {},
   "outputs": [
    {
     "data": {
      "text/plain": [
       "Data Recipe\n",
       "\n",
       "Inputs:\n",
       "\n",
       "      role #variables\n",
       "   outcome          1\n",
       " predictor          3\n",
       "\n",
       "Operations:\n",
       "\n",
       "Scaling for all_predictors()\n",
       "Centering for all_predictors()"
      ]
     },
     "metadata": {},
     "output_type": "display_data"
    },
    {
     "data": {
      "text/plain": [
       "K-Nearest Neighbor Model Specification (regression)\n",
       "\n",
       "Main Arguments:\n",
       "  neighbors = tune()\n",
       "  weight_func = rectangular\n",
       "\n",
       "Computational engine: kknn \n"
      ]
     },
     "metadata": {},
     "output_type": "display_data"
    }
   ],
   "source": [
    "student_recipe <- recipe(G3 ~ age + absences + failures, data = student_train) %>% step_scale(all_predictors()) %>% step_center(all_predictors())\n",
    "\n",
    "student_spec <- nearest_neighbor(weight_func = \"rectangular\", neighbors = tune()) %>% set_engine(\"kknn\") %>% set_mode(\"regression\")\n",
    "\n",
    "student_recipe\n",
    "student_spec"
   ]
  },
  {
   "cell_type": "markdown",
   "metadata": {},
   "source": [
    "#### Tuning/Finding ideal K"
   ]
  },
  {
   "cell_type": "code",
   "execution_count": 20,
   "metadata": {},
   "outputs": [
    {
     "data": {
      "text/html": [
       "18"
      ],
      "text/latex": [
       "18"
      ],
      "text/markdown": [
       "18"
      ],
      "text/plain": [
       "[1] 18"
      ]
     },
     "metadata": {},
     "output_type": "display_data"
    }
   ],
   "source": [
    "gridvals <- tibble(neighbors = seq(1, 200))\n",
    "student_vfold <- vfold_cv(student_train, v = 5, strata = G3)\n",
    "\n",
    "student_k <- workflow() %>% add_recipe(student_recipe) %>% add_model(student_spec) %>%\n",
    "             tune_grid(student_vfold, grid = gridvals) %>% collect_metrics() %>% filter(.metric == \"rmse\") %>% filter(mean == min(mean)) %>% pull(neighbors)\n",
    "\n",
    "student_k"
   ]
  },
  {
   "cell_type": "markdown",
   "metadata": {},
   "source": [
    "#### Evaluating on the test set"
   ]
  },
  {
   "cell_type": "code",
   "execution_count": 11,
   "metadata": {},
   "outputs": [
    {
     "data": {
      "text/html": [
       "<table>\n",
       "<caption>A tibble: 3 × 3</caption>\n",
       "<thead>\n",
       "\t<tr><th scope=col>.metric</th><th scope=col>.estimator</th><th scope=col>.estimate</th></tr>\n",
       "\t<tr><th scope=col>&lt;chr&gt;</th><th scope=col>&lt;chr&gt;</th><th scope=col>&lt;dbl&gt;</th></tr>\n",
       "</thead>\n",
       "<tbody>\n",
       "\t<tr><td>rmse</td><td>standard</td><td>3.7991432</td></tr>\n",
       "\t<tr><td>rsq </td><td>standard</td><td>0.1906105</td></tr>\n",
       "\t<tr><td>mae </td><td>standard</td><td>2.9533050</td></tr>\n",
       "</tbody>\n",
       "</table>\n"
      ],
      "text/latex": [
       "A tibble: 3 × 3\n",
       "\\begin{tabular}{lll}\n",
       " .metric & .estimator & .estimate\\\\\n",
       " <chr> & <chr> & <dbl>\\\\\n",
       "\\hline\n",
       "\t rmse & standard & 3.7991432\\\\\n",
       "\t rsq  & standard & 0.1906105\\\\\n",
       "\t mae  & standard & 2.9533050\\\\\n",
       "\\end{tabular}\n"
      ],
      "text/markdown": [
       "\n",
       "A tibble: 3 × 3\n",
       "\n",
       "| .metric &lt;chr&gt; | .estimator &lt;chr&gt; | .estimate &lt;dbl&gt; |\n",
       "|---|---|---|\n",
       "| rmse | standard | 3.7991432 |\n",
       "| rsq  | standard | 0.1906105 |\n",
       "| mae  | standard | 2.9533050 |\n",
       "\n"
      ],
      "text/plain": [
       "  .metric .estimator .estimate\n",
       "1 rmse    standard   3.7991432\n",
       "2 rsq     standard   0.1906105\n",
       "3 mae     standard   2.9533050"
      ]
     },
     "metadata": {},
     "output_type": "display_data"
    }
   ],
   "source": [
    "student_spec <- nearest_neighbor(weight_func = \"rectangular\", neighbors = student_k) %>%\n",
    "  set_engine(\"kknn\") %>%\n",
    "  set_mode(\"regression\")\n",
    "\n",
    "student_fit <- workflow() %>%\n",
    "  add_recipe(student_recipe) %>%\n",
    "  add_model(student_spec) %>%\n",
    "  fit(data = student_train)\n",
    "\n",
    "predictions <- student_fit %>%\n",
    "  predict(student_test) %>%\n",
    "  bind_cols(student_test)\n",
    "\n",
    "student_metrics <- metrics(predictions, truth = G3, estimate = .pred)\n",
    "student_metrics"
   ]
  },
  {
   "cell_type": "markdown",
   "metadata": {},
   "source": [
    "TODO: FILL ME WITH FINDINGS ABOUT THE REGRESSION MODEL"
   ]
  },
  {
   "cell_type": "markdown",
   "metadata": {},
   "source": [
    "### Method 2: Classification Model"
   ]
  },
  {
   "cell_type": "markdown",
   "metadata": {},
   "source": [
    "In an attempt to get the best results possible, we decided to also create a K-NN classification model for our grades as well. "
   ]
  },
  {
   "cell_type": "markdown",
   "metadata": {},
   "source": [
    "#### Preparing data for classification"
   ]
  },
  {
   "cell_type": "code",
   "execution_count": 47,
   "metadata": {},
   "outputs": [
    {
     "data": {
      "text/html": [
       "<table>\n",
       "<caption>A tibble: 395 × 14</caption>\n",
       "<thead>\n",
       "\t<tr><th scope=col>school</th><th scope=col>sex</th><th scope=col>age</th><th scope=col>paid</th><th scope=col>schoolsup</th><th scope=col>internet</th><th scope=col>studytime</th><th scope=col>failures</th><th scope=col>health</th><th scope=col>absences</th><th scope=col>G1</th><th scope=col>G2</th><th scope=col>G3</th><th scope=col>G3category</th></tr>\n",
       "\t<tr><th scope=col>&lt;chr&gt;</th><th scope=col>&lt;chr&gt;</th><th scope=col>&lt;dbl&gt;</th><th scope=col>&lt;chr&gt;</th><th scope=col>&lt;chr&gt;</th><th scope=col>&lt;chr&gt;</th><th scope=col>&lt;dbl&gt;</th><th scope=col>&lt;dbl&gt;</th><th scope=col>&lt;dbl&gt;</th><th scope=col>&lt;dbl&gt;</th><th scope=col>&lt;dbl&gt;</th><th scope=col>&lt;dbl&gt;</th><th scope=col>&lt;dbl&gt;</th><th scope=col>&lt;fct&gt;</th></tr>\n",
       "</thead>\n",
       "<tbody>\n",
       "\t<tr><td>GP</td><td>F</td><td>18</td><td>no </td><td>yes</td><td>no </td><td>2</td><td>0</td><td>3</td><td> 6</td><td>5</td><td>6</td><td> 6</td><td>Medium</td></tr>\n",
       "\t<tr><td>GP</td><td>F</td><td>17</td><td>no </td><td>no </td><td>yes</td><td>2</td><td>0</td><td>3</td><td> 4</td><td>5</td><td>5</td><td> 6</td><td>Medium</td></tr>\n",
       "\t<tr><td>GP</td><td>F</td><td>15</td><td>yes</td><td>yes</td><td>yes</td><td>2</td><td>3</td><td>3</td><td>10</td><td>7</td><td>8</td><td>10</td><td>Medium</td></tr>\n",
       "\t<tr><td>⋮</td><td>⋮</td><td>⋮</td><td>⋮</td><td>⋮</td><td>⋮</td><td>⋮</td><td>⋮</td><td>⋮</td><td>⋮</td><td>⋮</td><td>⋮</td><td>⋮</td><td>⋮</td></tr>\n",
       "\t<tr><td>MS</td><td>M</td><td>21</td><td>no</td><td>no</td><td>no </td><td>1</td><td>3</td><td>3</td><td>3</td><td>10</td><td> 8</td><td> 7</td><td>Medium</td></tr>\n",
       "\t<tr><td>MS</td><td>M</td><td>18</td><td>no</td><td>no</td><td>yes</td><td>1</td><td>0</td><td>5</td><td>0</td><td>11</td><td>12</td><td>10</td><td>Medium</td></tr>\n",
       "\t<tr><td>MS</td><td>M</td><td>19</td><td>no</td><td>no</td><td>yes</td><td>1</td><td>0</td><td>5</td><td>5</td><td> 8</td><td> 9</td><td> 9</td><td>Medium</td></tr>\n",
       "</tbody>\n",
       "</table>\n"
      ],
      "text/latex": [
       "A tibble: 395 × 14\n",
       "\\begin{tabular}{llllllllllllll}\n",
       " school & sex & age & paid & schoolsup & internet & studytime & failures & health & absences & G1 & G2 & G3 & G3category\\\\\n",
       " <chr> & <chr> & <dbl> & <chr> & <chr> & <chr> & <dbl> & <dbl> & <dbl> & <dbl> & <dbl> & <dbl> & <dbl> & <fct>\\\\\n",
       "\\hline\n",
       "\t GP & F & 18 & no  & yes & no  & 2 & 0 & 3 &  6 & 5 & 6 &  6 & Medium\\\\\n",
       "\t GP & F & 17 & no  & no  & yes & 2 & 0 & 3 &  4 & 5 & 5 &  6 & Medium\\\\\n",
       "\t GP & F & 15 & yes & yes & yes & 2 & 3 & 3 & 10 & 7 & 8 & 10 & Medium\\\\\n",
       "\t ⋮ & ⋮ & ⋮ & ⋮ & ⋮ & ⋮ & ⋮ & ⋮ & ⋮ & ⋮ & ⋮ & ⋮ & ⋮ & ⋮\\\\\n",
       "\t MS & M & 21 & no & no & no  & 1 & 3 & 3 & 3 & 10 &  8 &  7 & Medium\\\\\n",
       "\t MS & M & 18 & no & no & yes & 1 & 0 & 5 & 0 & 11 & 12 & 10 & Medium\\\\\n",
       "\t MS & M & 19 & no & no & yes & 1 & 0 & 5 & 5 &  8 &  9 &  9 & Medium\\\\\n",
       "\\end{tabular}\n"
      ],
      "text/markdown": [
       "\n",
       "A tibble: 395 × 14\n",
       "\n",
       "| school &lt;chr&gt; | sex &lt;chr&gt; | age &lt;dbl&gt; | paid &lt;chr&gt; | schoolsup &lt;chr&gt; | internet &lt;chr&gt; | studytime &lt;dbl&gt; | failures &lt;dbl&gt; | health &lt;dbl&gt; | absences &lt;dbl&gt; | G1 &lt;dbl&gt; | G2 &lt;dbl&gt; | G3 &lt;dbl&gt; | G3category &lt;fct&gt; |\n",
       "|---|---|---|---|---|---|---|---|---|---|---|---|---|---|\n",
       "| GP | F | 18 | no  | yes | no  | 2 | 0 | 3 |  6 | 5 | 6 |  6 | Medium |\n",
       "| GP | F | 17 | no  | no  | yes | 2 | 0 | 3 |  4 | 5 | 5 |  6 | Medium |\n",
       "| GP | F | 15 | yes | yes | yes | 2 | 3 | 3 | 10 | 7 | 8 | 10 | Medium |\n",
       "| ⋮ | ⋮ | ⋮ | ⋮ | ⋮ | ⋮ | ⋮ | ⋮ | ⋮ | ⋮ | ⋮ | ⋮ | ⋮ | ⋮ |\n",
       "| MS | M | 21 | no | no | no  | 1 | 3 | 3 | 3 | 10 |  8 |  7 | Medium |\n",
       "| MS | M | 18 | no | no | yes | 1 | 0 | 5 | 0 | 11 | 12 | 10 | Medium |\n",
       "| MS | M | 19 | no | no | yes | 1 | 0 | 5 | 5 |  8 |  9 |  9 | Medium |\n",
       "\n"
      ],
      "text/plain": [
       "    school sex age paid schoolsup internet studytime failures health absences\n",
       "1   GP     F   18  no   yes       no       2         0        3       6      \n",
       "2   GP     F   17  no   no        yes      2         0        3       4      \n",
       "3   GP     F   15  yes  yes       yes      2         3        3      10      \n",
       "⋮   ⋮      ⋮   ⋮   ⋮    ⋮         ⋮        ⋮         ⋮        ⋮      ⋮       \n",
       "393 MS     M   21  no   no        no       1         3        3      3       \n",
       "394 MS     M   18  no   no        yes      1         0        5      0       \n",
       "395 MS     M   19  no   no        yes      1         0        5      5       \n",
       "    G1 G2 G3 G3category\n",
       "1   5  6   6 Medium    \n",
       "2   5  5   6 Medium    \n",
       "3   7  8  10 Medium    \n",
       "⋮   ⋮  ⋮  ⋮  ⋮         \n",
       "393 10  8  7 Medium    \n",
       "394 11 12 10 Medium    \n",
       "395  8  9  9 Medium    "
      ]
     },
     "metadata": {},
     "output_type": "display_data"
    }
   ],
   "source": [
    "set.seed(6969)\n",
    "b <- c(-Inf, 5, 10, Inf)\n",
    "\n",
    "names <- c(\"Low\", \"Medium\", \"High\")\n",
    "\n",
    "# Categorize students by the labels above\n",
    "student_clean$G3category <- cut(student_clean$G3, breaks = b, labels = names)\n",
    "\n",
    "student_clean\n",
    "\n",
    "student_split <- initial_split(student_clean, props = 0.80, strata = G3category)\n",
    "student_train <- training(student_split)\n",
    "student_test <- testing(student_split)"
   ]
  },
  {
   "cell_type": "markdown",
   "metadata": {},
   "source": [
    "#### Setup recipe and models for tuning"
   ]
  },
  {
   "cell_type": "code",
   "execution_count": 44,
   "metadata": {},
   "outputs": [],
   "source": [
    "# Setup cross validation\n",
    "student_vfold <- vfold_cv(student_clean, v = 20, strata = G3category)\n",
    "\n",
    "# Setup recipe\n",
    "student_recipe <- recipe(G3category ~ age + absences + failures, data = student_train) %>%\n",
    "                    step_scale(all_predictors()) %>% step_center(all_predictors())\n",
    "\n",
    "# Setup classification model\n",
    "student_classification_spec <- nearest_neighbor(weight_func = \"rectangular\", neighbors = tune()) %>% set_engine(\"kknn\") %>% set_mode(\"classification\")"
   ]
  },
  {
   "cell_type": "markdown",
   "metadata": {},
   "source": [
    "#### Finding the ideal K value"
   ]
  },
  {
   "cell_type": "code",
   "execution_count": 45,
   "metadata": {},
   "outputs": [
    {
     "data": {
      "image/png": "[encoded data removed]",
      "text/plain": [
       "plot without title"
      ]
     },
     "metadata": {
      "image/png": {
       "height": 420,
       "width": 420
      }
     },
     "output_type": "display_data"
    }
   ],
   "source": [
    "# Try 20 values of K, find best one\n",
    "student_classification_results <- workflow() %>%\n",
    "  add_recipe(student_recipe) %>%\n",
    "  add_model(student_classification_spec) %>%\n",
    "  tune_grid(resamples = student_vfold, grid = 20) %>%\n",
    "  collect_metrics()\n",
    "\n",
    "# Filter for accuracy\n",
    "accuracies <- student_classification_results %>%\n",
    "  filter(.metric == \"accuracy\")\n",
    "\n",
    "# Graph the accuracy vs. K\n",
    "accuracy_vs_k <- ggplot(accuracies, aes(x = neighbors, y = mean)) +\n",
    "  geom_point() +\n",
    "  geom_line() +\n",
    "  labs(x = \"Neighbors\", y = \"Accuracy Estimate\")\n",
    "accuracy_vs_k"
   ]
  },
  {
   "cell_type": "markdown",
   "metadata": {},
   "source": [
    "#### Finding the accuracy "
   ]
  },
  {
   "cell_type": "markdown",
   "metadata": {},
   "source": [
    "From the graph above, we can see that a K value of 13 yields the best results."
   ]
  },
  {
   "cell_type": "code",
   "execution_count": 46,
   "metadata": {},
   "outputs": [
    {
     "data": {
      "text/plain": [
       "══ Workflow [trained] ══════════════════════════════════════════════════════════\n",
       "\u001b[3mPreprocessor:\u001b[23m Recipe\n",
       "\u001b[3mModel:\u001b[23m nearest_neighbor()\n",
       "\n",
       "── Preprocessor ────────────────────────────────────────────────────────────────\n",
       "2 Recipe Steps\n",
       "\n",
       "● step_scale()\n",
       "● step_center()\n",
       "\n",
       "── Model ───────────────────────────────────────────────────────────────────────\n",
       "\n",
       "Call:\n",
       "kknn::train.kknn(formula = ..y ~ ., data = data, ks = ~13, kernel = ~\"rectangular\")\n",
       "\n",
       "Type of response variable: nominal\n",
       "Minimal misclassification: 0.4579125\n",
       "Best kernel: rectangular\n",
       "Best k: 13"
      ]
     },
     "metadata": {},
     "output_type": "display_data"
    },
    {
     "data": {
      "text/html": [
       "<table>\n",
       "<caption>A tibble: 2 × 3</caption>\n",
       "<thead>\n",
       "\t<tr><th scope=col>.metric</th><th scope=col>.estimator</th><th scope=col>.estimate</th></tr>\n",
       "\t<tr><th scope=col>&lt;chr&gt;</th><th scope=col>&lt;chr&gt;</th><th scope=col>&lt;dbl&gt;</th></tr>\n",
       "</thead>\n",
       "<tbody>\n",
       "\t<tr><td>accuracy</td><td>multiclass</td><td>0.5714286</td></tr>\n",
       "\t<tr><td>kap     </td><td>multiclass</td><td>0.2136034</td></tr>\n",
       "</tbody>\n",
       "</table>\n"
      ],
      "text/latex": [
       "A tibble: 2 × 3\n",
       "\\begin{tabular}{lll}\n",
       " .metric & .estimator & .estimate\\\\\n",
       " <chr> & <chr> & <dbl>\\\\\n",
       "\\hline\n",
       "\t accuracy & multiclass & 0.5714286\\\\\n",
       "\t kap      & multiclass & 0.2136034\\\\\n",
       "\\end{tabular}\n"
      ],
      "text/markdown": [
       "\n",
       "A tibble: 2 × 3\n",
       "\n",
       "| .metric &lt;chr&gt; | .estimator &lt;chr&gt; | .estimate &lt;dbl&gt; |\n",
       "|---|---|---|\n",
       "| accuracy | multiclass | 0.5714286 |\n",
       "| kap      | multiclass | 0.2136034 |\n",
       "\n"
      ],
      "text/plain": [
       "  .metric  .estimator .estimate\n",
       "1 accuracy multiclass 0.5714286\n",
       "2 kap      multiclass 0.2136034"
      ]
     },
     "metadata": {},
     "output_type": "display_data"
    }
   ],
   "source": [
    "student_classification_spec <- nearest_neighbor(weight_func = \"rectangular\", neighbors = 13) %>% set_engine(\"kknn\") %>% set_mode(\"classification\")\n",
    "\n",
    "student_fit <- workflow() %>%\n",
    "  add_recipe(student_classification_recipe) %>%\n",
    "  add_model(student_classification_spec) %>%\n",
    "  fit(data = student_train)\n",
    "student_fit\n",
    "\n",
    "\n",
    "student_predictions <- predict(student_fit, student_test) %>%\n",
    "  bind_cols(student_test) %>% metrics(truth = G3category, estimate = .pred_class)\n",
    "student_predictions\n"
   ]
  },
  {
   "cell_type": "markdown",
   "metadata": {},
   "source": [
    "## Results"
   ]
  },
  {
   "cell_type": "markdown",
   "metadata": {},
   "source": [
    "## Discussion"
   ]
  },
  {
   "cell_type": "markdown",
   "metadata": {},
   "source": [
    "## References"
   ]
  },
  {
   "cell_type": "code",
   "execution_count": 75,
   "metadata": {},
   "outputs": [
    {
     "data": {
      "image/png": "[encoded data removed]",
      "text/plain": [
       "plot without title"
      ]
     },
     "metadata": {
      "image/png": {
       "height": 420,
       "width": 420
      }
     },
     "output_type": "display_data"
    }
   ],
   "source": [
    "age_G3 <- ggplot(student_clean , aes(x=age , y=G3)) + geom_point()\n",
    "\n",
    "age_G3"
   ]
  },
  {
   "cell_type": "code",
   "execution_count": null,
   "metadata": {},
   "outputs": [],
   "source": []
  }
 ],
 "metadata": {
  "kernelspec": {
   "display_name": "R",
   "language": "R",
   "name": "ir"
  },
  "language_info": {
   "codemirror_mode": "r",
   "file_extension": ".r",
   "mimetype": "text/x-r-source",
   "name": "R",
   "pygments_lexer": "r",
   "version": "4.0.0"
  }
 },
 "nbformat": 4,
 "nbformat_minor": 4
}
